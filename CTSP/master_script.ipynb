{
 "cells": [
  {
   "cell_type": "code",
   "execution_count": 1,
   "metadata": {},
   "outputs": [],
   "source": [
    "import networkx as nx\n",
    "import sys\n",
    "sys.path.insert(0, 'code/')\n",
    "from Utils import *\n",
    "import pandas as pd\n",
    "\n",
    "import accessibility\n",
    "import breadth\n",
    "import data_amount\n",
    "import data_qual\n",
    "import recency"
   ]
  },
  {
   "cell_type": "code",
   "execution_count": 4,
   "metadata": {},
   "outputs": [
    {
     "name": "stdout",
     "output_type": "stream",
     "text": [
      "Checking https://data.cityofberkeley.info/ for Accessibility of Data\n",
      "There was an error: 'NoneType' object has no attribute 'group'\n",
      "Checking https://data.cityofberkeley.info/ for Breadth of Dataset\n",
      "There was an error: main() takes 0 positional arguments but 1 was given\n",
      "Checking https://data.cityofberkeley.info/ for Amount of Data\n",
      "There was an error: main() takes 0 positional arguments but 1 was given\n",
      "Checking https://data.cityofberkeley.info/ for Quality of Data\n",
      "There was an error: main() takes 0 positional arguments but 1 was given\n",
      "Checking https://data.cityofberkeley.info/ for Recency of dataset\n",
      "Checking https://datasf.org/opendata/ for Accessibility of Data\n",
      "There was an error: HTTP Error 403: Forbidden\n",
      "Checking https://datasf.org/opendata/ for Breadth of Dataset\n",
      "There was an error: main() takes 0 positional arguments but 1 was given\n",
      "Checking https://datasf.org/opendata/ for Amount of Data\n",
      "There was an error: main() takes 0 positional arguments but 1 was given\n",
      "Checking https://datasf.org/opendata/ for Quality of Data\n",
      "There was an error: main() takes 0 positional arguments but 1 was given\n",
      "Checking https://datasf.org/opendata/ for Recency of dataset\n"
     ]
    },
    {
     "data": {
      "text/plain": [
       "{<module 'accessibility' from 'code/accessibility.py'>: [0, 0],\n",
       " <module 'breadth' from 'code/breadth.py'>: ['?', '?'],\n",
       " <module 'data_amount' from 'code/data_amount.py'>: ['?', '?'],\n",
       " <module 'data_qual' from 'code/data_qual.py'>: ['?', '?'],\n",
       " <module 'recency' from 'code/recency.py'>: ['?', '?']}"
      ]
     },
     "execution_count": 4,
     "metadata": {},
     "output_type": "execute_result"
    }
   ],
   "source": [
    "\n",
    "def get_single_data(url, lst, f):\n",
    "    \"\"\"\n",
    "    Tries a url with a certain category, then if it returns the correct data type \n",
    "    and doesn't errror, then it will add the score from the category into the\n",
    "    list. Returns the score. \n",
    "    \"\"\"\n",
    "    try:\n",
    "        temp = f(url)\n",
    "    except Exception as e:\n",
    "        print(\"There was an error: {}\".format(e))\n",
    "        return \"?\"\n",
    "    return temp\n",
    "        \n",
    "def main():\n",
    "    all_city_dataset = 'data/all_city_data.csv'\n",
    "    accessibility_list = []\n",
    "    breadth_list = []\n",
    "    quality_list = []\n",
    "    amount_list = []\n",
    "    recency_list = []\n",
    "    category_dict = {accessibility: accessibility_list, \n",
    "                     breadth:breadth_list, \n",
    "                     data_amount: amount_list,\n",
    "                     data_qual: quality_list,\n",
    "                     recency: recency_list}\n",
    "    df = read_from_csv(all_city_dataset)\n",
    "    for url in df['City Open Data URL']:\n",
    "        for func in category_dict:\n",
    "            category_dict[func] += [get_single_data(url, category_dict[func], func.main)]\n",
    "            print('Checking {} for {}'.format(url, func.name()))\n",
    "    for mod in category_dict:\n",
    "        write_to_csv(mod.name(), category_dict[mod], all_city_dataset)\n",
    "    return category_dict\n",
    "main()"
   ]
  },
  {
   "cell_type": "code",
   "execution_count": 5,
   "metadata": {},
   "outputs": [
    {
     "data": {
      "text/html": [
       "<div>\n",
       "<style scoped>\n",
       "    .dataframe tbody tr th:only-of-type {\n",
       "        vertical-align: middle;\n",
       "    }\n",
       "\n",
       "    .dataframe tbody tr th {\n",
       "        vertical-align: top;\n",
       "    }\n",
       "\n",
       "    .dataframe thead th {\n",
       "        text-align: right;\n",
       "    }\n",
       "</style>\n",
       "<table border=\"1\" class=\"dataframe\">\n",
       "  <thead>\n",
       "    <tr style=\"text-align: right;\">\n",
       "      <th></th>\n",
       "      <th>City Name</th>\n",
       "      <th>City URL</th>\n",
       "      <th>City Open Data URL</th>\n",
       "      <th>Accessibility of Data</th>\n",
       "      <th>Breadth of Dataset</th>\n",
       "      <th>Amount of Data</th>\n",
       "      <th>Quality of Data</th>\n",
       "      <th>Recency of dataset</th>\n",
       "    </tr>\n",
       "  </thead>\n",
       "  <tbody>\n",
       "    <tr>\n",
       "      <th>0</th>\n",
       "      <td>Berkeley</td>\n",
       "      <td>https://www.cityofberkeley.info/Home.aspx</td>\n",
       "      <td>https://data.cityofberkeley.info/</td>\n",
       "      <td>0</td>\n",
       "      <td>?</td>\n",
       "      <td>?</td>\n",
       "      <td>?</td>\n",
       "      <td>?</td>\n",
       "    </tr>\n",
       "    <tr>\n",
       "      <th>1</th>\n",
       "      <td>San Francisco</td>\n",
       "      <td>http://sfgov.org/</td>\n",
       "      <td>https://datasf.org/opendata/</td>\n",
       "      <td>0</td>\n",
       "      <td>?</td>\n",
       "      <td>?</td>\n",
       "      <td>?</td>\n",
       "      <td>?</td>\n",
       "    </tr>\n",
       "  </tbody>\n",
       "</table>\n",
       "</div>"
      ],
      "text/plain": [
       "       City Name                                   City URL  \\\n",
       "0       Berkeley  https://www.cityofberkeley.info/Home.aspx   \n",
       "1  San Francisco                          http://sfgov.org/   \n",
       "\n",
       "                  City Open Data URL  Accessibility of Data  \\\n",
       "0  https://data.cityofberkeley.info/                      0   \n",
       "1       https://datasf.org/opendata/                      0   \n",
       "\n",
       "  Breadth of Dataset Amount of Data Quality of Data Recency of dataset  \n",
       "0                  ?              ?               ?                  ?  \n",
       "1                  ?              ?               ?                  ?  "
      ]
     },
     "execution_count": 5,
     "metadata": {},
     "output_type": "execute_result"
    }
   ],
   "source": [
    "read_from_csv('data/all_city_data.csv')"
   ]
  },
  {
   "cell_type": "code",
   "execution_count": null,
   "metadata": {},
   "outputs": [],
   "source": []
  }
 ],
 "metadata": {
  "kernelspec": {
   "display_name": "Python 3",
   "language": "python",
   "name": "python3"
  },
  "language_info": {
   "codemirror_mode": {
    "name": "ipython",
    "version": 3
   },
   "file_extension": ".py",
   "mimetype": "text/x-python",
   "name": "python",
   "nbconvert_exporter": "python",
   "pygments_lexer": "ipython3",
   "version": "3.6.4"
  }
 },
 "nbformat": 4,
 "nbformat_minor": 2
}
