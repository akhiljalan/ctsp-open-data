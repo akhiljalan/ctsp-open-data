{
 "cells": [
  {
   "cell_type": "code",
   "execution_count": 1,
   "metadata": {},
   "outputs": [],
   "source": [
    "import networkx as nx\n",
    "import sys\n",
    "sys.path.insert(0, 'code/')\n",
    "from Utils import *\n",
    "import pandas as pd\n",
    "\n",
    "import accessibility\n",
    "import breadth\n",
    "import data_amount\n",
    "import data_qual\n",
    "import recency"
   ]
  },
  {
   "cell_type": "code",
   "execution_count": 2,
   "metadata": {},
   "outputs": [
    {
     "name": "stdout",
     "output_type": "stream",
     "text": [
      "Checking https://data.cityofberkeley.info/ for Accessibility of Data\n",
      "Checking https://data.cityofberkeley.info/ for Breadth of Dataset\n",
      "Checking https://data.cityofberkeley.info/ for Amount of Data\n",
      "Checking https://data.cityofberkeley.info/ for Quality of Data\n",
      "Checking https://data.cityofberkeley.info/ for Recency of dataset\n",
      "Checking https://datasf.org/opendata/ for Accessibility of Data\n",
      "Checking https://datasf.org/opendata/ for Breadth of Dataset\n",
      "Checking https://datasf.org/opendata/ for Amount of Data\n",
      "Checking https://datasf.org/opendata/ for Quality of Data\n",
      "Checking https://datasf.org/opendata/ for Recency of dataset\n"
     ]
    },
    {
     "data": {
      "text/plain": [
       "{<module 'accessibility' from 'code/accessibility.py'>: ['N', 'N'],\n",
       " <module 'breadth' from 'code/breadth.py'>: ['N', 'N'],\n",
       " <module 'data_amount' from 'code/data_amount.py'>: ['N', 'N'],\n",
       " <module 'data_qual' from 'code/data_qual.py'>: ['N', 'N'],\n",
       " <module 'recency' from 'code/recency.py'>: ['N', 'N']}"
      ]
     },
     "execution_count": 2,
     "metadata": {},
     "output_type": "execute_result"
    }
   ],
   "source": [
    "\n",
    "def get_single_data(url, lst, f):\n",
    "    \"\"\"\n",
    "    Tries a url with a certain category, then if it returns the correct data type \n",
    "    and doesn't errror, then it will add the score from the category into the\n",
    "    list. Returns the list. \n",
    "    \"\"\"\n",
    "    try:\n",
    "        temp = f.main(url)\n",
    "        if type(temp) != int or type(temp) != float:\n",
    "            return \"N\"\n",
    "    except:\n",
    "        return \"N\"\n",
    "    return temp\n",
    "        \n",
    "def main():\n",
    "    all_city_dataset = 'data/all_city_data.csv'\n",
    "    accessibility_list = []\n",
    "    breadth_list = []\n",
    "    quality_list = []\n",
    "    amount_list = []\n",
    "    recency_list = []\n",
    "    category_dict = {accessibility: accessibility_list, \n",
    "                     breadth:breadth_list, \n",
    "                     data_amount: amount_list,\n",
    "                     data_qual: quality_list,\n",
    "                     recency: recency_list}\n",
    "    df = read_from_csv(all_city_dataset)\n",
    "    for url in df['City Open Data URL']:\n",
    "        for func in category_dict:\n",
    "            category_dict[func] += get_single_data(url, category_dict[func], func.main)\n",
    "            print('Checking {} for {}'.format(url, func.name()))\n",
    "    for mod in category_dict:\n",
    "        write_to_csv(mod.name(), category_dict[mod], all_city_dataset)\n",
    "    return category_dict\n",
    "main()"
   ]
  }
 ],
 "metadata": {
  "kernelspec": {
   "display_name": "Python 3",
   "language": "python",
   "name": "python3"
  },
  "language_info": {
   "codemirror_mode": {
    "name": "ipython",
    "version": 3
   },
   "file_extension": ".py",
   "mimetype": "text/x-python",
   "name": "python",
   "nbconvert_exporter": "python",
   "pygments_lexer": "ipython3",
   "version": "3.6.4"
  }
 },
 "nbformat": 4,
 "nbformat_minor": 2
}
