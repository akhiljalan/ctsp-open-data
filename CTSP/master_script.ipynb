{
 "cells": [
  {
   "cell_type": "code",
   "execution_count": 1,
   "metadata": {},
   "outputs": [],
   "source": [
    "import networkx as nx\n",
    "import sys\n",
    "sys.path.insert(0, 'code/')\n",
    "from Utils import *\n",
    "import pandas as pd\n",
    "import accessibility\n",
    "import breadth\n",
    "import data_amount\n",
    "import data_qual\n",
    "import recency"
   ]
  },
  {
   "cell_type": "code",
   "execution_count": 6,
   "metadata": {},
   "outputs": [
    {
     "name": "stdout",
     "output_type": "stream",
     "text": [
      "Checking https://data.cityofberkeley.info for Accessibility of Data\n",
      "There was an error: 'NoneType' object has no attribute 'group'\n",
      "Checking https://data.cityofberkeley.info for Breadth of Dataset\n",
      "Checking https://data.cityofberkeley.info for Amount of Data\n",
      "There was an error: main() takes 0 positional arguments but 1 was given\n",
      "Checking https://data.cityofberkeley.info for Quality of Data\n",
      "228598\n",
      "Checking https://data.cityofberkeley.info for Recency of dataset\n",
      "Checking https://data.sfgov.org for Accessibility of Data\n",
      "There was an error: HTTP Error 403: Forbidden\n",
      "Checking https://data.sfgov.org for Breadth of Dataset\n",
      "Checking https://data.sfgov.org for Amount of Data\n",
      "There was an error: main() takes 0 positional arguments but 1 was given\n",
      "Checking https://data.sfgov.org for Quality of Data\n",
      "228598\n",
      "Checking https://data.sfgov.org for Recency of dataset\n",
      "Checking https://data.oaklandnet.com for Accessibility of Data\n",
      "There was an error: 'NoneType' object has no attribute 'group'\n",
      "Checking https://data.oaklandnet.com for Breadth of Dataset\n",
      "Checking https://data.oaklandnet.com for Amount of Data\n",
      "There was an error: main() takes 0 positional arguments but 1 was given\n",
      "Checking https://data.oaklandnet.com for Quality of Data\n",
      "228598\n",
      "Checking https://data.oaklandnet.com for Recency of dataset\n",
      "Checking https://data.srcity.org for Accessibility of Data\n",
      "There was an error: 'NoneType' object has no attribute 'group'\n",
      "Checking https://data.srcity.org for Breadth of Dataset\n",
      "Checking https://data.srcity.org for Amount of Data\n",
      "There was an error: main() takes 0 positional arguments but 1 was given\n",
      "Checking https://data.srcity.org for Quality of Data\n",
      "228598\n",
      "Checking https://data.srcity.org for Recency of dataset\n",
      "Checking https://data.richmondgov.com for Accessibility of Data\n",
      "There was an error: 'NoneType' object has no attribute 'group'\n",
      "Checking https://data.richmondgov.com for Breadth of Dataset\n",
      "Checking https://data.richmondgov.com for Amount of Data\n",
      "There was an error: main() takes 0 positional arguments but 1 was given\n",
      "Checking https://data.richmondgov.com for Quality of Data\n",
      "228598\n",
      "Checking https://data.richmondgov.com for Recency of dataset\n"
     ]
    },
    {
     "data": {
      "text/plain": [
       "{<module 'accessibility' from 'code/accessibility.py'>: [0, 0, 0, 0, 0],\n",
       " <module 'breadth' from 'code/breadth.py'>: ['?', '?', '?', '?', '?'],\n",
       " <module 'data_amount' from 'code/data_amount.py'>: [25, 299, 115, 144, 13],\n",
       " <module 'data_qual' from 'code/data_qual.py'>: ['?', '?', '?', '?', '?'],\n",
       " <module 'recency' from 'code/recency.py'>: [228598,\n",
       "  228598,\n",
       "  228598,\n",
       "  228598,\n",
       "  228598]}"
      ]
     },
     "execution_count": 6,
     "metadata": {},
     "output_type": "execute_result"
    }
   ],
   "source": [
    "\n",
    "def get_single_data(url, lst, f):\n",
    "    \"\"\"\n",
    "    Tries a url with a certain category, then if it returns the correct data type \n",
    "    and doesn't errror, then it will add the score from the category into the\n",
    "    list. Returns the score. \n",
    "    \"\"\"\n",
    "    try:\n",
    "        temp = f(url)\n",
    "    except Exception as e:\n",
    "        print(\"There was an error: {}\".format(e))\n",
    "        return \"?\"\n",
    "    return temp\n",
    "        \n",
    "def main():\n",
    "    all_city_dataset = 'data/all_city_data.csv'\n",
    "    accessibility_list = []\n",
    "    breadth_list = []\n",
    "    quality_list = []\n",
    "    amount_list = []\n",
    "    recency_list = []\n",
    "    category_dict = {accessibility: accessibility_list, \n",
    "                     breadth:breadth_list, \n",
    "                     data_amount: amount_list,\n",
    "                     data_qual: quality_list,\n",
    "                     recency: recency_list}\n",
    "    df = read_from_csv(all_city_dataset)\n",
    "    for url in df['City Open Data URL']:\n",
    "        for func in category_dict:\n",
    "            category_dict[func] += [get_single_data(url, category_dict[func], func.main)]\n",
    "            print('Checking {} for {}'.format(url, func.name()))\n",
    "    for mod in category_dict:\n",
    "        write_to_csv(mod.name(), category_dict[mod], all_city_dataset)\n",
    "    return category_dict\n",
    "main()"
   ]
  },
  {
   "cell_type": "code",
   "execution_count": 9,
   "metadata": {},
   "outputs": [
    {
     "data": {
      "image/jpeg": "[encoded data removed]",
      "text/html": [
       "\n",
       "        <iframe\n",
       "            width=\"400\"\n",
       "            height=\"300\"\n",
       "            src=\"https://www.youtube.com/embed/mhIcuMZmyWM\"\n",
       "            frameborder=\"0\"\n",
       "            allowfullscreen\n",
       "        ></iframe>\n",
       "        "
      ],
      "text/plain": [
       "<IPython.lib.display.YouTubeVideo at 0x113098dd8>"
      ]
     },
     "execution_count": 9,
     "metadata": {},
     "output_type": "execute_result"
    }
   ],
   "source": [
    "# read_from_csv('data/all_city_data.csv')\n",
    "# from IPython.lib.display import YouTubeVideo\n",
    "# YouTubeVideo(\"mhIcuMZmyWM\")"
   ]
  },
  {
   "cell_type": "code",
   "execution_count": null,
   "metadata": {},
   "outputs": [],
   "source": []
  }
 ],
 "metadata": {
  "kernelspec": {
   "display_name": "Python 3",
   "language": "python",
   "name": "python3"
  },
  "language_info": {
   "codemirror_mode": {
    "name": "ipython",
    "version": 3
   },
   "file_extension": ".py",
   "mimetype": "text/x-python",
   "name": "python",
   "nbconvert_exporter": "python",
   "pygments_lexer": "ipython3",
   "version": "3.6.4"
  }
 },
 "nbformat": 4,
 "nbformat_minor": 2
}
