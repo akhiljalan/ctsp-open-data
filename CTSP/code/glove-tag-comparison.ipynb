{
 "cells": [
  {
   "cell_type": "code",
   "execution_count": 1,
   "metadata": {},
   "outputs": [],
   "source": [
    "import errno\n",
    "import os\n",
    "import tensorflow as tf\n",
    "import urllib\n",
    "\n",
    "\n",
    "\n",
    "def maybe_download(url, local_dir, expected_bytes):\n",
    "    \"\"\"Download a file if not present, and make sure it's the right size.\"\"\"\n",
    "    mkdir_p(local_dir)\n",
    "    local_filename = url.split('/')[-1]\n",
    "    local_filepath = os.path.join(local_dir, local_filename)\n",
    "    if not os.path.exists(local_filepath):\n",
    "        print(\"Downloading %s...\" % local_filename)\n",
    "        local_filename, _ = urllib.request.urlretrieve(url,\n",
    "                                                       local_filepath)\n",
    "        print(\"Finished!\")\n",
    "    statinfo = os.stat(local_filepath)\n",
    "    if statinfo.st_size == expected_bytes:\n",
    "        print('Found and verified', local_filepath)\n",
    "    else:\n",
    "        print(statinfo.st_size)\n",
    "        raise Exception('Failed to verify ' + local_filename +\n",
    "                        '. Can you get to it with a browser?')\n",
    "    return local_filename\n",
    "\n",
    "\n",
    "def mkdir_p(path):\n",
    "    \"\"\"From https://stackoverflow.com/questions/600268/mkdir-p-functionality-in-python\"\"\"\n",
    "    try:\n",
    "        os.makedirs(path)\n",
    "    except OSError as exc:  # Python >2.5\n",
    "        if exc.errno == errno.EEXIST and os.path.isdir(path):\n",
    "            pass\n",
    "        else:\n",
    "            raise\n",
    "\n",
    "\n",
    "def get_session():\n",
    "    \"\"\"Create a session that dynamically allocates memory.\"\"\"\n",
    "    # See: https://www.tensorflow.org/tutorials/using_gpu#allowing_gpu_memory_growth\n",
    "    config = tf.ConfigProto()\n",
    "    config.gpu_options.allow_growth = True\n",
    "    session = tf.Session(config=config)\n",
    "    return session"
   ]
  },
  {
   "cell_type": "code",
   "execution_count": 2,
   "metadata": {},
   "outputs": [
    {
     "name": "stdout",
     "output_type": "stream",
     "text": [
      "Found and verified datasets/glove.6B.zip\n"
     ]
    }
   ],
   "source": [
    "import zipfile\n",
    "\n",
    "import numpy as np\n",
    "\n",
    "maybe_download('http://nlp.stanford.edu/data/glove.6B.zip', 'datasets', 862182613)\n",
    "if not os.path.exists(os.path.join(\"datasets\", \"glove.6B.50d.txt\")):\n",
    "    with zipfile.ZipFile(os.path.join(\"datasets\", \"glove.6B.zip\"), \"r\") as zip_ref:\n",
    "        zip_ref.extractall(\"datasets\")\n",
    "    for f in [\"glove.6B.100d.txt\", \"glove.6B.300d.txt\", \"glove.6B.200d.txt\"]:\n",
    "        os.remove(os.path.join('datasets', f))"
   ]
  },
  {
   "cell_type": "code",
   "execution_count": 3,
   "metadata": {},
   "outputs": [
    {
     "name": "stdout",
     "output_type": "stream",
     "text": [
      "Loaded 400000 50-dimensional embeddings.\n"
     ]
    }
   ],
   "source": [
    "import os\n",
    "import numpy as np\n",
    "import tensorflow as tf\n",
    "\n",
    "def load_embeddings(filename):\n",
    "    vocab = []\n",
    "    embed = []\n",
    "    with open(filename, 'r', encoding=\"utf-8\") as f:\n",
    "        for line in f.readlines():\n",
    "            row = line.strip().split(' ')\n",
    "            vocab.append(row[0])\n",
    "            embed.append(row[1:])\n",
    "    embed = np.asarray(embed)\n",
    "    return vocab, embed\n",
    "\n",
    "\n",
    "# Load the GloVe vectors into numpy\n",
    "glove_filepath = os.path.join('datasets', 'glove.6B.50d.txt')\n",
    "vocab, embed = load_embeddings(glove_filepath)\n",
    "vocab_size = len(vocab)\n",
    "embed_dim = len(embed[0])\n",
    "assert vocab_size > 0, \"The vocabulary shouldn't be empty; did you download the GloVe weights?\"\n",
    "print('Loaded %d %d-dimensional embeddings.' % (vocab_size, embed_dim))\n",
    "\n",
    "# word2id = {}\n",
    "# id2word = vocab\n",
    "# for i, w in enumerate(id2word):\n",
    "#     word2id[w] = i\n",
    "\n",
    "# Ops to load the embeddings into TensorFlow\n",
    "# embedding = tf.Variable(tf.constant(0.0, shape=[vocab_size, embed_dim]),\n",
    "#                         trainable=False, name=\"embedding\")\n",
    "# embedding_placeholder = tf.placeholder(tf.float32, [vocab_size, embed_dim])\n",
    "# embedding_init = embedding.assign(embedding_placeholder)"
   ]
  },
  {
   "cell_type": "markdown",
   "metadata": {},
   "source": [
    "TODO pick general categories later."
   ]
  },
  {
   "cell_type": "code",
   "execution_count": 4,
   "metadata": {},
   "outputs": [],
   "source": [
    "def get_embed_for_words(words):\n",
    "    word_embeds = []\n",
    "    fin_words = []\n",
    "    for i in range(400000):\n",
    "        for word in words:\n",
    "            if word == vocab[i]: \n",
    "                print('Word {} is in the dataset'.format(vocab[i]))\n",
    "                fin_words.append(word)\n",
    "                word_embeds.append(embed[i])\n",
    "                words.remove(vocab[i])\n",
    "    return fin_words, word_embeds"
   ]
  },
  {
   "cell_type": "code",
   "execution_count": 9,
   "metadata": {},
   "outputs": [
    {
     "name": "stdout",
     "output_type": "stream",
     "text": [
      "Word police is in the dataset\n",
      "Word meeting is in the dataset\n",
      "Word election is in the dataset\n",
      "Word budget is in the dataset\n"
     ]
    }
   ],
   "source": [
    "general_categories = ['police', 'budget', 'meeting', 'election']\n",
    "category_words, category_embeds = get_embed_for_words(general_categories)"
   ]
  },
  {
   "cell_type": "code",
   "execution_count": 12,
   "metadata": {},
   "outputs": [],
   "source": [
    "category_embeds = np.vstack(tuple(category_embeds))"
   ]
  },
  {
   "cell_type": "code",
   "execution_count": 13,
   "metadata": {},
   "outputs": [],
   "source": [
    "def load_with_repeats(filename): \n",
    "    with open(filename, 'r') as f:\n",
    "        all_cat = f.readline().split(',')\n",
    "    return all_cat"
   ]
  },
  {
   "cell_type": "code",
   "execution_count": 16,
   "metadata": {},
   "outputs": [],
   "source": [
    "tag_phrases = load_with_repeats('../categories.txt')"
   ]
  },
  {
   "cell_type": "code",
   "execution_count": 17,
   "metadata": {},
   "outputs": [],
   "source": [
    "tag_words = []\n",
    "for phrase in tag_phrases: \n",
    "    for x in phrase.strip().split(' '):\n",
    "        tag_words.append(x)"
   ]
  },
  {
   "cell_type": "code",
   "execution_count": 19,
   "metadata": {},
   "outputs": [
    {
     "name": "stdout",
     "output_type": "stream",
     "text": [
      "Word police is in the dataset\n",
      "Word police is in the dataset\n",
      "Word police is in the dataset\n",
      "Word police is in the dataset\n",
      "Word business is in the dataset\n",
      "Word law is in the dataset\n",
      "Word service is in the dataset\n",
      "Word plan is in the dataset\n",
      "Word water is in the dataset\n",
      "Word age is in the dataset\n",
      "Word age is in the dataset\n",
      "Word population is in the dataset\n",
      "Word community is in the dataset\n",
      "Word race is in the dataset\n",
      "Word race is in the dataset\n",
      "Word action is in the dataset\n",
      "Word education is in the dataset\n",
      "Word energy is in the dataset\n",
      "Word energy is in the dataset\n",
      "Word reports is in the dataset\n",
      "Word violence is in the dataset\n",
      "Word budget is in the dataset\n",
      "Word stop is in the dataset\n",
      "Word management is in the dataset\n",
      "Word cases is in the dataset\n",
      "Word gas is in the dataset\n",
      "Word gas is in the dataset\n",
      "Word gas is in the dataset\n",
      "Word justice is in the dataset\n",
      "Word data is in the dataset\n",
      "Word data is in the dataset\n",
      "Word green is in the dataset\n",
      "Word green is in the dataset\n",
      "Word income is in the dataset\n",
      "Word records is in the dataset\n",
      "Word natural is in the dataset\n",
      "Word natural is in the dataset\n",
      "Word natural is in the dataset\n",
      "Word reason is in the dataset\n",
      "Word crime is in the dataset\n",
      "Word crime is in the dataset\n",
      "Word crime is in the dataset\n",
      "Word housing is in the dataset\n",
      "Word housing is in the dataset\n",
      "Word search is in the dataset\n",
      "Word criminal is in the dataset\n",
      "Word businesses is in the dataset\n",
      "Word traffic is in the dataset\n",
      "Word census is in the dataset\n",
      "Word census is in the dataset\n",
      "Word vehicle is in the dataset\n",
      "Word vehicle is in the dataset\n",
      "Word climate is in the dataset\n",
      "Word forest is in the dataset\n",
      "Word urban is in the dataset\n",
      "Word transportation is in the dataset\n",
      "Word statistics is in the dataset\n",
      "Word enforcement is in the dataset\n",
      "Word enforcement is in the dataset\n",
      "Word electricity is in the dataset\n",
      "Word electricity is in the dataset\n",
      "Word electricity is in the dataset\n",
      "Word tree is in the dataset\n",
      "Word assault is in the dataset\n",
      "Word ticket is in the dataset\n",
      "Word occupation is in the dataset\n",
      "Word employee is in the dataset\n",
      "Word incidents is in the dataset\n",
      "Word alcohol is in the dataset\n",
      "Word consumption is in the dataset\n",
      "Word customer is in the dataset\n",
      "Word gender is in the dataset\n",
      "Word citizenship is in the dataset\n",
      "Word salaries is in the dataset\n",
      "Word theft is in the dataset\n",
      "Word certified is in the dataset\n",
      "Word relation is in the dataset\n",
      "Word robbery is in the dataset\n",
      "Word bike is in the dataset\n",
      "Word planting is in the dataset\n",
      "Word forestry is in the dataset\n",
      "Word narcotics is in the dataset\n",
      "Word pedestrian is in the dataset\n",
      "Word co2 is in the dataset\n",
      "Word vandalism is in the dataset\n",
      "Word 311 is in the dataset\n",
      "Word crm is in the dataset\n",
      "Word ucr is in the dataset\n",
      "Word ghg is in the dataset\n",
      "Word pg&e is in the dataset\n",
      "Word ebmud is in the dataset\n"
     ]
    }
   ],
   "source": [
    "tag_words, tag_embeddings = get_embed_for_words(tag_words)"
   ]
  },
  {
   "cell_type": "code",
   "execution_count": 21,
   "metadata": {},
   "outputs": [
    {
     "data": {
      "text/plain": [
       "array([['0.49725', '0.49725', '0.49725', ..., '0.022897', '0.16528',\n",
       "        '-0.2446'],\n",
       "       ['-1.1949', '-1.1949', '-1.1949', ..., '0.49796', '-0.30625',\n",
       "        '-0.36988'],\n",
       "       ['0.37137', '0.37137', '0.37137', ..., '0.91822', '0.60297',\n",
       "        '0.079561'],\n",
       "       ..., \n",
       "       ['0.12378', '0.12378', '0.12378', ..., '1.4032', '0.17151',\n",
       "        '0.10161'],\n",
       "       ['0.85397', '0.85397', '0.85397', ..., '0.083728', '-0.36362',\n",
       "        '0.90325'],\n",
       "       ['-0.65035', '-0.65035', '-0.65035', ..., '0.30038', '-0.27778',\n",
       "        '-0.041727']],\n",
       "      dtype='<U11')"
      ]
     },
     "execution_count": 21,
     "metadata": {},
     "output_type": "execute_result"
    }
   ],
   "source": [
    "tag_embed_matrix = np.vstack(tuple(tag_embeddings)).T"
   ]
  },
  {
   "cell_type": "code",
   "execution_count": 15,
   "metadata": {},
   "outputs": [],
   "source": [
    "# np.matmul(category_embeds, tag_embed_matrix)"
   ]
  },
  {
   "cell_type": "code",
   "execution_count": 22,
   "metadata": {},
   "outputs": [
    {
     "data": {
      "text/plain": [
       "(50, 91)"
      ]
     },
     "execution_count": 22,
     "metadata": {},
     "output_type": "execute_result"
    }
   ],
   "source": [
    "np.shape(tag_embed_matrix)"
   ]
  },
  {
   "cell_type": "code",
   "execution_count": 23,
   "metadata": {},
   "outputs": [
    {
     "data": {
      "text/plain": [
       "(4, 50)"
      ]
     },
     "execution_count": 23,
     "metadata": {},
     "output_type": "execute_result"
    }
   ],
   "source": [
    "np.shape(category_embeds)"
   ]
  },
  {
   "cell_type": "code",
   "execution_count": 24,
   "metadata": {},
   "outputs": [],
   "source": [
    "category_embeds = category_embeds.astype(np.float32)\n",
    "tag_embed_matrix = tag_embed_matrix.astype(np.float32)"
   ]
  },
  {
   "cell_type": "code",
   "execution_count": 25,
   "metadata": {},
   "outputs": [
    {
     "data": {
      "text/plain": [
       "(4, 91)"
      ]
     },
     "execution_count": 25,
     "metadata": {},
     "output_type": "execute_result"
    }
   ],
   "source": [
    "np.matmul(category_embeds, tag_embed_matrix).shape"
   ]
  },
  {
   "cell_type": "code",
   "execution_count": 28,
   "metadata": {},
   "outputs": [],
   "source": [
    "normalized_tag_embeds = (tag_embed_matrix * (1 / np.linalg.norm(tag_embed_matrix, axis=0)))"
   ]
  },
  {
   "cell_type": "code",
   "execution_count": 29,
   "metadata": {},
   "outputs": [],
   "source": [
    "normalized_category_embeds = category_embeds * np.expand_dims(1 / np.linalg.norm(category_embeds, axis=1), -1)\n"
   ]
  },
  {
   "cell_type": "code",
   "execution_count": 22,
   "metadata": {},
   "outputs": [],
   "source": [
    "sim_matrix = np.matmul(normalized_category_embeds, normalized_tag_embeds)"
   ]
  },
  {
   "cell_type": "code",
   "execution_count": 23,
   "metadata": {},
   "outputs": [
    {
     "data": {
      "text/plain": [
       "array([[ 0.08112953, -0.19495562,  0.0605914 , -0.01332368,  0.11276393,\n",
       "        -0.11418013, -0.04196873,  0.09696385,  0.0097858 , -0.24457146,\n",
       "        -0.01162   , -0.16402115, -0.12048285, -0.06687456,  0.070278  ,\n",
       "        -0.07628705, -0.05954883,  0.04841504, -0.10242144, -0.06782902,\n",
       "         0.04668558,  0.1911867 , -0.03510474,  0.10120429, -0.1390778 ,\n",
       "        -0.40253952,  0.02351737,  0.01083603, -0.06186239, -0.10666024,\n",
       "         0.44838646, -0.04708042, -0.0740877 , -0.22091378,  0.09550198,\n",
       "         0.16498376,  0.11048137, -0.19102353,  0.0595113 ,  0.19392771,\n",
       "        -0.04686994,  0.20055187,  0.09542856, -0.03365101,  0.14824229,\n",
       "        -0.14414707, -0.13882163,  0.0201955 ,  0.13933069, -0.10610878],\n",
       "       [ 0.12164826,  0.17819379, -0.1556326 ,  0.0909054 ,  0.10886825,\n",
       "        -0.19266538, -0.08047238,  0.06235011, -0.11080075, -0.17644373,\n",
       "        -0.08008447, -0.08139878, -0.09180169,  0.13137275,  0.10782318,\n",
       "         0.08602189, -0.02524294, -0.11464981,  0.06131567, -0.01523769,\n",
       "         0.16667141,  0.02345392,  0.05816628, -0.0303266 , -0.01928248,\n",
       "        -0.24592867,  0.13183151,  0.02427049, -0.27223265,  0.09526814,\n",
       "         0.56575638,  0.10590131, -0.2407033 , -0.06036624, -0.01566033,\n",
       "        -0.15832855,  0.02941437,  0.07243064, -0.05790412,  0.03679011,\n",
       "        -0.16289675,  0.00735271, -0.08764265, -0.12759808,  0.1099151 ,\n",
       "         0.10681707, -0.05809011,  0.20308068, -0.01488308,  0.01280462],\n",
       "       [-0.07572248, -0.06166859,  0.08316325,  0.05441395, -0.02385804,\n",
       "         0.09588422, -0.02767732,  0.08116055, -0.12870876, -0.15350251,\n",
       "        -0.16620021, -0.19884193, -0.06298655, -0.00949003,  0.10750328,\n",
       "        -0.01076229, -0.0107018 , -0.14013836, -0.01210652, -0.07185001,\n",
       "         0.07567261, -0.07297519,  0.14890873, -0.03709755,  0.02843353,\n",
       "        -0.30939832, -0.05819334, -0.0297515 , -0.08397929,  0.21162273,\n",
       "         0.44445261,  0.06900799, -0.31042874, -0.23419271, -0.08800467,\n",
       "        -0.1054507 ,  0.03040134,  0.05461173, -0.09101456, -0.13892509,\n",
       "        -0.16757967,  0.04630005, -0.20553981, -0.05728755, -0.2344254 ,\n",
       "         0.07943539, -0.19566751,  0.02682804,  0.21484701, -0.0457117 ],\n",
       "       [ 0.04120019, -0.02639544,  0.10793483, -0.12192221, -0.07239236,\n",
       "         0.03980212, -0.01117816, -0.26563278, -0.01758745, -0.15084021,\n",
       "        -0.27105385, -0.01492458, -0.04280469,  0.09764484,  0.20618555,\n",
       "         0.02204683,  0.02228851, -0.02550927,  0.09673686, -0.03629604,\n",
       "         0.14357966, -0.15321004, -0.04462906, -0.14882283, -0.04532893,\n",
       "        -0.20497714, -0.02699797,  0.08693696, -0.04349114,  0.14758421,\n",
       "         0.54643786,  0.1376299 , -0.05036399,  0.0393926 , -0.1149923 ,\n",
       "         0.03833356, -0.00562919,  0.01732059,  0.01851222, -0.20388621,\n",
       "        -0.17327307,  0.10419881,  0.0305309 , -0.06064725, -0.23983651,\n",
       "         0.09050849,  0.01749682,  0.24168271,  0.03839566,  0.19084541]], dtype=float32)"
      ]
     },
     "execution_count": 23,
     "metadata": {},
     "output_type": "execute_result"
    }
   ],
   "source": [
    "normalized_category_embeds"
   ]
  },
  {
   "cell_type": "code",
   "execution_count": 27,
   "metadata": {},
   "outputs": [
    {
     "data": {
      "text/plain": [
       "array([[ 1.        ,  1.        ,  1.        ,  1.        ,  0.37782702,\n",
       "         0.50888675,  0.51192677,  0.36461431,  0.33621722,  0.27145368,\n",
       "         0.27145368,  0.3727001 ,  0.47038737,  0.28251207,  0.28251207,\n",
       "         0.54297966,  0.34372619,  0.20126359,  0.20126359,  0.66294223,\n",
       "         0.57497567,  0.22185263,  0.62788248,  0.3836084 ,  0.55254734,\n",
       "         0.39194855,  0.39194855,  0.39194855,  0.5385704 ,  0.34456822,\n",
       "         0.34456822,  0.32892108,  0.32892108,  0.19693632,  0.30481961,\n",
       "         0.21267366,  0.21267366,  0.21267366,  0.44482815,  0.62654668,\n",
       "         0.62654668,  0.62654668,  0.38475591,  0.38475591,  0.56387287,\n",
       "         0.68423003,  0.37948063,  0.5721826 ,  0.33391023,  0.33391023,\n",
       "         0.58605242,  0.58605242,  0.12189772,  0.32167047,  0.38043648,\n",
       "         0.43361136,  0.41414142,  0.68039668,  0.68039668,  0.27552515,\n",
       "         0.27552515,  0.27552515,  0.19996311,  0.68338013,  0.25361446,\n",
       "         0.38162985,  0.56028682,  0.65576679,  0.37025639,  0.11422724,\n",
       "         0.29947293,  0.19687355,  0.27971968,  0.30604336,  0.51360476,\n",
       "         0.15534474,  0.26744708,  0.60964477,  0.25539339,  0.30165786,\n",
       "         0.29863361,  0.5266009 ,  0.28536004, -0.        ,  0.43060783,\n",
       "         0.0177402 , -0.        , -0.        , -0.        , -0.        ,\n",
       "        -0.        ],\n",
       "       [ 0.43742308,  0.43742308,  0.43742308,  0.43742308,  0.52838868,\n",
       "         0.42905241,  0.46678743,  0.65096939,  0.30177182,  0.24810165,\n",
       "         0.24810165,  0.24861616,  0.5116722 ,  0.41473097,  0.41473097,\n",
       "         0.55864531,  0.4802483 ,  0.43790609,  0.43790609,  0.57097733,\n",
       "         0.43917152,  0.52943707,  0.46986008,  0.47619838,  0.32804558,\n",
       "         0.29981244,  0.29981244,  0.29981244,  0.49528596,  0.30161899,\n",
       "         0.30161899,  0.36774021,  0.36774021,  0.19299115,  0.20983514,\n",
       "         0.281634  ,  0.281634  ,  0.281634  ,  0.49841818,  0.30070871,\n",
       "         0.30070871,  0.30070871,  0.31955966,  0.31955966,  0.40493912,\n",
       "         0.31785494,  0.33014095,  0.28882712,  0.2245751 ,  0.2245751 ,\n",
       "         0.18902121,  0.18902121,  0.52138072,  0.20762987,  0.26687431,\n",
       "         0.39733282,  0.36077687,  0.38452768,  0.38452768,  0.23440462,\n",
       "         0.23440462,  0.23440462,  0.25426605,  0.19790871,  0.34248236,\n",
       "         0.33473939,  0.32937309,  0.32809025,  0.12042347,  0.22253926,\n",
       "         0.28812543,  0.19473554,  0.23323674,  0.29746073,  0.01549328,\n",
       "         0.13253495,  0.33884454,  0.05585386,  0.05835186,  0.25203559,\n",
       "         0.25820723,  0.17902988,  0.02417327, -0.        , -0.        ,\n",
       "        -0.        , -0.        , -0.        , -0.        , -0.        ,\n",
       "        -0.        ],\n",
       "       [ 0.3963829 ,  0.3963829 ,  0.3963829 ,  0.3963829 ,  0.38452652,\n",
       "         0.51313835,  0.37405446,  0.56275493,  0.28455937,  0.35337049,\n",
       "         0.35337049,  0.37067395,  0.39031026,  0.62583321,  0.62583321,\n",
       "         0.59972864,  0.42328104,  0.36528972,  0.36528972,  0.5055874 ,\n",
       "         0.52446562,  0.59329444,  0.43586317,  0.29828978,  0.4019224 ,\n",
       "         0.26624027,  0.26624027,  0.26624027,  0.58451641,  0.33856285,\n",
       "         0.33856285,  0.33490443,  0.33490443,  0.36411482,  0.31653881,\n",
       "         0.24491249,  0.24491249,  0.24491249,  0.53633106,  0.44441333,\n",
       "         0.44441333,  0.44441333,  0.30137742,  0.30137742,  0.32086575,\n",
       "         0.42658946,  0.29734758,  0.33642688,  0.46806383,  0.46806383,\n",
       "         0.27297479,  0.27297479,  0.44001964,  0.24368942,  0.3520593 ,\n",
       "         0.33278573,  0.40744418,  0.3661918 ,  0.3661918 ,  0.34401673,\n",
       "         0.34401673,  0.34401673,  0.15076286,  0.34962896,  0.55429977,\n",
       "         0.35896578,  0.24775165,  0.39736819,  0.19988504,  0.30693039,\n",
       "         0.17992707,  0.31857392,  0.37470382,  0.32195592,  0.21389291,\n",
       "         0.20530343,  0.32797876,  0.17473499,  0.08561238,  0.21350507,\n",
       "         0.15347581,  0.10677678,  0.04662498,  0.06661593,  0.11121931,\n",
       "         0.05594183, -0.        ,  0.12720963, -0.        , -0.        ,\n",
       "        -0.        ],\n",
       "       [ 0.22185263,  0.22185263,  0.22185263,  0.22185263,  0.56659418,\n",
       "         0.47102541,  0.47677842,  0.77362508,  0.33774829,  0.30845928,\n",
       "         0.30845928,  0.36815166,  0.31406945,  0.31150037,  0.31150037,\n",
       "         0.60234165,  0.52724814,  0.476509  ,  0.476509  ,  0.45816207,\n",
       "         0.42724708,  0.99999982,  0.40277794,  0.54418135,  0.3993533 ,\n",
       "         0.34464106,  0.34464106,  0.34464106,  0.38629368,  0.4424164 ,\n",
       "         0.4424164 ,  0.32540479,  0.32540479,  0.59629846,  0.25441056,\n",
       "         0.3353557 ,  0.3353557 ,  0.3353557 ,  0.47109085,  0.48841587,\n",
       "         0.48841587,  0.48841587,  0.59075952,  0.59075952,  0.3171736 ,\n",
       "         0.33356491,  0.49298671,  0.3961294 ,  0.37600589,  0.37600589,\n",
       "         0.33260027,  0.33260027,  0.5500772 ,  0.2277188 ,  0.44385132,\n",
       "         0.52390075,  0.48812655,  0.46085599,  0.46085599,  0.42947978,\n",
       "         0.42947978,  0.42947978,  0.16127183,  0.18022741,  0.52799422,\n",
       "         0.31432983,  0.37027586,  0.28414345,  0.14516728,  0.46411312,\n",
       "         0.3910799 ,  0.2883862 ,  0.18890667,  0.5956316 ,  0.19338171,\n",
       "         0.17646202,  0.26442659,  0.09401111,  0.1233243 ,  0.18958509,\n",
       "         0.25366941,  0.29910392,  0.10134585,  0.248937  ,  0.00943356,\n",
       "         0.26597464, -0.        , -0.        ,  0.23767906, -0.        ,\n",
       "        -0.        ]], dtype=float32)"
      ]
     },
     "execution_count": 27,
     "metadata": {},
     "output_type": "execute_result"
    }
   ],
   "source": [
    "masked_sim_matrix = sim_matrix * (sim_matrix >= 0)\n",
    "masked_sim_matrix"
   ]
  },
  {
   "cell_type": "code",
   "execution_count": 28,
   "metadata": {},
   "outputs": [
    {
     "data": {
      "text/plain": [
       "0.34174143613039792"
      ]
     },
     "execution_count": 28,
     "metadata": {},
     "output_type": "execute_result"
    }
   ],
   "source": [
    "np.sum(masked_sim_matrix)/(masked_sim_matrix.shape[0] * masked_sim_matrix.shape[1])"
   ]
  },
  {
   "cell_type": "code",
   "execution_count": null,
   "metadata": {},
   "outputs": [],
   "source": []
  }
 ],
 "metadata": {
  "kernelspec": {
   "display_name": "Python 3",
   "language": "python",
   "name": "python3"
  },
  "language_info": {
   "codemirror_mode": {
    "name": "ipython",
    "version": 3
   },
   "file_extension": ".py",
   "mimetype": "text/x-python",
   "name": "python",
   "nbconvert_exporter": "python",
   "pygments_lexer": "ipython3",
   "version": "3.6.4"
  }
 },
 "nbformat": 4,
 "nbformat_minor": 2
}
