{
 "cells": [
  {
   "cell_type": "code",
   "execution_count": 6,
   "metadata": {},
   "outputs": [],
   "source": [
    "from urllib import request\n",
    "import lxml\n",
    "from lxml import html\n",
    "import Utils as utils\n",
    "import re\n",
    "import graph_dataset_search as gds\n",
    "import data_amount as data_amount\n",
    "import json"
   ]
  },
  {
   "cell_type": "code",
   "execution_count": 3,
   "metadata": {},
   "outputs": [],
   "source": [
    "test_data = 'https://data.sfgov.org/Transportation/Air-Traffic-Passenger-Statistics/rkru-6vcg'"
   ]
  },
  {
   "cell_type": "code",
   "execution_count": 19,
   "metadata": {},
   "outputs": [],
   "source": [
    "def get_stats(url, data_url):\n",
    "    \"\"\"\n",
    "    Takes open data platform url and dataset url and gets significant statistics from it, \n",
    "    writes to csv. \n",
    "    \"\"\"\n",
    "    \n",
    "    json_url = \"{}/api/views/{}/rows.json?accessType=DOWNLOAD\".format(url, data_url[-9:])\n",
    "    json_stuff = request.urlopen(json_url).read()\n",
    "#     print(json_url)\n",
    "#     with open(json_stuff, 'r') as fp:\n",
    "#         obj = json.load(fp)\n",
    "#     print(type(obj))\n",
    "    \n",
    "    \n",
    "    with request.urlopen(json_url) as url:\n",
    "        data = json.loads(url.read().decode())\n",
    "    print(data)\n"
   ]
  },
  {
   "cell_type": "code",
   "execution_count": 20,
   "metadata": {},
   "outputs": [
    {
     "name": "stderr",
     "output_type": "stream",
     "text": [
      "IOPub data rate exceeded.\n",
      "The notebook server will temporarily stop sending output\n",
      "to the client in order to avoid crashing it.\n",
      "To change this limit, set the config variable\n",
      "`--NotebookApp.iopub_data_rate_limit`.\n",
      "\n",
      "Current values:\n",
      "NotebookApp.iopub_data_rate_limit=1000000.0 (bytes/sec)\n",
      "NotebookApp.rate_limit_window=3.0 (secs)\n",
      "\n"
     ]
    }
   ],
   "source": [
    "get_stats('https://data.sfgov.org', test_data)"
   ]
  },
  {
   "cell_type": "code",
   "execution_count": null,
   "metadata": {},
   "outputs": [],
   "source": []
  }
 ],
 "metadata": {
  "kernelspec": {
   "display_name": "Python 3",
   "language": "python",
   "name": "python3"
  },
  "language_info": {
   "codemirror_mode": {
    "name": "ipython",
    "version": 3
   },
   "file_extension": ".py",
   "mimetype": "text/x-python",
   "name": "python",
   "nbconvert_exporter": "python",
   "pygments_lexer": "ipython3",
   "version": "3.6.4"
  }
 },
 "nbformat": 4,
 "nbformat_minor": 2
}
