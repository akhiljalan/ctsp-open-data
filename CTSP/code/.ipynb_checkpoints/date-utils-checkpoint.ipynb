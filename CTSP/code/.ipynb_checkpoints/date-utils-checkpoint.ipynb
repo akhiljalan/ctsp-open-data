{
 "cells": [
  {
   "cell_type": "code",
   "execution_count": 1,
   "metadata": {},
   "outputs": [],
   "source": [
    "import pandas as pd\n",
    "import os"
   ]
  },
  {
   "cell_type": "code",
   "execution_count": 4,
   "metadata": {},
   "outputs": [],
   "source": [
    "download_path = '/Users/akhiljalan/Downloads/'\n",
    "download_files = os.listdir(download_path)"
   ]
  },
  {
   "cell_type": "code",
   "execution_count": 5,
   "metadata": {},
   "outputs": [],
   "source": [
    "datafile_paths = []"
   ]
  },
  {
   "cell_type": "code",
   "execution_count": 6,
   "metadata": {},
   "outputs": [],
   "source": [
    "for name in download_files: \n",
    "    if '_datasets_full.csv' in name: \n",
    "        datafile_paths.append(download_path + name)"
   ]
  },
  {
   "cell_type": "code",
   "execution_count": 84,
   "metadata": {},
   "outputs": [
    {
     "data": {
      "text/plain": [
       "'/Users/akhiljalan/Downloads/berkeley_datasets_full.csv'"
      ]
     },
     "execution_count": 84,
     "metadata": {},
     "output_type": "execute_result"
    }
   ],
   "source": [
    "datafile_paths[0]"
   ]
  },
  {
   "cell_type": "code",
   "execution_count": 10,
   "metadata": {},
   "outputs": [],
   "source": [
    "test_df = pd.read_csv(datafile_paths[0])"
   ]
  },
  {
   "cell_type": "code",
   "execution_count": 12,
   "metadata": {},
   "outputs": [],
   "source": [
    "update_times = list(test_df['4/30/18 - time rows updated(days)'])"
   ]
  },
  {
   "cell_type": "code",
   "execution_count": null,
   "metadata": {},
   "outputs": [],
   "source": []
  },
  {
   "cell_type": "code",
   "execution_count": 13,
   "metadata": {},
   "outputs": [
    {
     "data": {
      "text/plain": [
       "[1,\n",
       " 1,\n",
       " 1,\n",
       " 1,\n",
       " 333,\n",
       " 677,\n",
       " 1,\n",
       " 1227,\n",
       " 1172,\n",
       " 1227,\n",
       " 1227,\n",
       " 1227,\n",
       " 1227,\n",
       " 719,\n",
       " 594,\n",
       " 1227,\n",
       " 1189,\n",
       " 1227,\n",
       " 1227,\n",
       " 1227,\n",
       " 1227,\n",
       " 1088,\n",
       " 6,\n",
       " 1308]"
      ]
     },
     "execution_count": 13,
     "metadata": {},
     "output_type": "execute_result"
    }
   ],
   "source": [
    "update_times"
   ]
  },
  {
   "cell_type": "code",
   "execution_count": 15,
   "metadata": {},
   "outputs": [],
   "source": [
    "import numpy as np"
   ]
  },
  {
   "cell_type": "code",
   "execution_count": 16,
   "metadata": {},
   "outputs": [
    {
     "data": {
      "text/plain": [
       "(array([ 6,  0,  1,  0,  1,  2,  0,  0,  2, 12]),\n",
       " array([1.0000e+00, 1.3170e+02, 2.6240e+02, 3.9310e+02, 5.2380e+02,\n",
       "        6.5450e+02, 7.8520e+02, 9.1590e+02, 1.0466e+03, 1.1773e+03,\n",
       "        1.3080e+03]))"
      ]
     },
     "execution_count": 16,
     "metadata": {},
     "output_type": "execute_result"
    }
   ],
   "source": [
    "np.histogram(update_times)"
   ]
  },
  {
   "cell_type": "code",
   "execution_count": 20,
   "metadata": {},
   "outputs": [
    {
     "data": {
      "text/plain": [
       "([(-0.308, 66.35], (-0.308, 66.35], (-0.308, 66.35], (-0.308, 66.35], (327.75, 393.1], ..., (1177.3, 1242.65], (1177.3, 1242.65], (1046.6, 1111.95], (-0.308, 66.35], (1242.65, 1308.0]]\n",
       " Length: 24\n",
       " Categories (20, interval[float64]): [(-0.308, 66.35] < (66.35, 131.7] < (131.7, 197.05] < (197.05, 262.4] ... (1046.6, 1111.95] < (1111.95, 1177.3] < (1177.3, 1242.65] < (1242.65, 1308.0]],\n",
       " array([-3.07000e-01,  6.63500e+01,  1.31700e+02,  1.97050e+02,\n",
       "         2.62400e+02,  3.27750e+02,  3.93100e+02,  4.58450e+02,\n",
       "         5.23800e+02,  5.89150e+02,  6.54500e+02,  7.19850e+02,\n",
       "         7.85200e+02,  8.50550e+02,  9.15900e+02,  9.81250e+02,\n",
       "         1.04660e+03,  1.11195e+03,  1.17730e+03,  1.24265e+03,\n",
       "         1.30800e+03]))"
      ]
     },
     "execution_count": 20,
     "metadata": {},
     "output_type": "execute_result"
    }
   ],
   "source": [
    "pd.cut(update_times, bins=20, retbins=True, include_lowest=True)"
   ]
  },
  {
   "cell_type": "code",
   "execution_count": 31,
   "metadata": {},
   "outputs": [],
   "source": [
    "test_df['4/30/18 - time rows updated(days)'] = test_df['4/30/18 - time rows updated(days)'].sort_values()"
   ]
  },
  {
   "cell_type": "code",
   "execution_count": 33,
   "metadata": {},
   "outputs": [],
   "source": [
    "update_days = sorted(test_df['4/30/18 - time rows updated(days)'])"
   ]
  },
  {
   "cell_type": "code",
   "execution_count": 34,
   "metadata": {},
   "outputs": [],
   "source": [
    "test_df['days_since_updated'] = update_days"
   ]
  },
  {
   "cell_type": "code",
   "execution_count": 35,
   "metadata": {},
   "outputs": [],
   "source": [
    "out1, out2 = pd.cut(test_df['days_since_updated'], bins=20, retbins=True, include_lowest=True)"
   ]
  },
  {
   "cell_type": "code",
   "execution_count": 44,
   "metadata": {},
   "outputs": [
    {
     "data": {
      "text/plain": [
       "Interval(-0.308, 66.35, closed='right')"
      ]
     },
     "execution_count": 44,
     "metadata": {},
     "output_type": "execute_result"
    }
   ],
   "source": [
    "out1[3]"
   ]
  },
  {
   "cell_type": "code",
   "execution_count": 52,
   "metadata": {},
   "outputs": [
    {
     "data": {
      "text/plain": [
       "Interval(1242.65, 1308.0, closed='right')"
      ]
     },
     "execution_count": 52,
     "metadata": {},
     "output_type": "execute_result"
    }
   ],
   "source": [
    "out1[23]"
   ]
  },
  {
   "cell_type": "code",
   "execution_count": 60,
   "metadata": {},
   "outputs": [
    {
     "data": {
      "text/plain": [
       "24"
      ]
     },
     "execution_count": 60,
     "metadata": {},
     "output_type": "execute_result"
    }
   ],
   "source": [
    "len(out1)"
   ]
  },
  {
   "cell_type": "code",
   "execution_count": 54,
   "metadata": {},
   "outputs": [
    {
     "data": {
      "text/plain": [
       "True"
      ]
     },
     "execution_count": 54,
     "metadata": {},
     "output_type": "execute_result"
    }
   ],
   "source": [
    "out1[2] == out1[1]"
   ]
  },
  {
   "cell_type": "code",
   "execution_count": 75,
   "metadata": {},
   "outputs": [],
   "source": [
    "cur_interval = out1[0]\n",
    "upper_bounds = [cur_interval.right]\n",
    "out_counts = [1]\n",
    "for i in range(1, len(out1)): \n",
    "    if out1[i] == cur_interval: \n",
    "        out_counts[-1] += 1\n",
    "    else: \n",
    "        cur_interval = out1[i]\n",
    "        upper_bounds.append(cur_interval.right)\n",
    "        out_counts.append(1)"
   ]
  },
  {
   "cell_type": "code",
   "execution_count": 76,
   "metadata": {},
   "outputs": [],
   "source": [
    "datafile_counts = [np.cumsum(out_counts)]"
   ]
  },
  {
   "cell_type": "code",
   "execution_count": 77,
   "metadata": {},
   "outputs": [
    {
     "data": {
      "text/plain": [
       "[6, 1, 1, 2, 1, 1, 11, 1]"
      ]
     },
     "execution_count": 77,
     "metadata": {},
     "output_type": "execute_result"
    }
   ],
   "source": [
    "out_counts"
   ]
  },
  {
   "cell_type": "code",
   "execution_count": 78,
   "metadata": {},
   "outputs": [
    {
     "data": {
      "text/plain": [
       "[array([ 6,  7,  8, 10, 11, 12, 23, 24])]"
      ]
     },
     "execution_count": 78,
     "metadata": {},
     "output_type": "execute_result"
    }
   ],
   "source": [
    "datafile_counts"
   ]
  },
  {
   "cell_type": "code",
   "execution_count": 83,
   "metadata": {},
   "outputs": [],
   "source": [
    "int_upper_bounds = [1 + int(x) for x in upper_bounds]"
   ]
  },
  {
   "cell_type": "code",
   "execution_count": 107,
   "metadata": {},
   "outputs": [],
   "source": [
    "out_file = pd.DataFrame(columns=['Upper Bounds', 'Berkeley'])"
   ]
  },
  {
   "cell_type": "code",
   "execution_count": 108,
   "metadata": {},
   "outputs": [],
   "source": [
    "out_file['Upper Bounds'] = int_upper_bounds"
   ]
  },
  {
   "cell_type": "code",
   "execution_count": 114,
   "metadata": {},
   "outputs": [
    {
     "data": {
      "text/plain": [
       "[5, 5, 5, 5, 5]"
      ]
     },
     "execution_count": 114,
     "metadata": {},
     "output_type": "execute_result"
    }
   ],
   "source": [
    "[5] * 5"
   ]
  },
  {
   "cell_type": "code",
   "execution_count": 112,
   "metadata": {},
   "outputs": [
    {
     "data": {
      "text/plain": [
       "8"
      ]
     },
     "execution_count": 112,
     "metadata": {},
     "output_type": "execute_result"
    }
   ],
   "source": [
    "len(datafile_counts[0])"
   ]
  },
  {
   "cell_type": "code",
   "execution_count": 113,
   "metadata": {},
   "outputs": [
    {
     "data": {
      "text/plain": [
       "9"
      ]
     },
     "execution_count": 113,
     "metadata": {},
     "output_type": "execute_result"
    }
   ],
   "source": [
    "len(int_upper_bounds)"
   ]
  },
  {
   "cell_type": "code",
   "execution_count": 109,
   "metadata": {},
   "outputs": [
    {
     "ename": "ValueError",
     "evalue": "Length of values does not match length of index",
     "output_type": "error",
     "traceback": [
      "\u001b[0;31m---------------------------------------------------------------------------\u001b[0m",
      "\u001b[0;31mValueError\u001b[0m                                Traceback (most recent call last)",
      "\u001b[0;32m<ipython-input-109-8c5a55416416>\u001b[0m in \u001b[0;36m<module>\u001b[0;34m()\u001b[0m\n\u001b[0;32m----> 1\u001b[0;31m \u001b[0mout_file\u001b[0m\u001b[0;34m[\u001b[0m\u001b[0;34m'Berkeley'\u001b[0m\u001b[0;34m]\u001b[0m \u001b[0;34m=\u001b[0m \u001b[0mdatafile_counts\u001b[0m\u001b[0;34m[\u001b[0m\u001b[0;36m0\u001b[0m\u001b[0;34m]\u001b[0m\u001b[0;34m\u001b[0m\u001b[0m\n\u001b[0m",
      "\u001b[0;32m~/anaconda/lib/python3.6/site-packages/pandas/core/frame.py\u001b[0m in \u001b[0;36m__setitem__\u001b[0;34m(self, key, value)\u001b[0m\n\u001b[1;32m   2517\u001b[0m         \u001b[0;32melse\u001b[0m\u001b[0;34m:\u001b[0m\u001b[0;34m\u001b[0m\u001b[0m\n\u001b[1;32m   2518\u001b[0m             \u001b[0;31m# set column\u001b[0m\u001b[0;34m\u001b[0m\u001b[0;34m\u001b[0m\u001b[0m\n\u001b[0;32m-> 2519\u001b[0;31m             \u001b[0mself\u001b[0m\u001b[0;34m.\u001b[0m\u001b[0m_set_item\u001b[0m\u001b[0;34m(\u001b[0m\u001b[0mkey\u001b[0m\u001b[0;34m,\u001b[0m \u001b[0mvalue\u001b[0m\u001b[0;34m)\u001b[0m\u001b[0;34m\u001b[0m\u001b[0m\n\u001b[0m\u001b[1;32m   2520\u001b[0m \u001b[0;34m\u001b[0m\u001b[0m\n\u001b[1;32m   2521\u001b[0m     \u001b[0;32mdef\u001b[0m \u001b[0m_setitem_slice\u001b[0m\u001b[0;34m(\u001b[0m\u001b[0mself\u001b[0m\u001b[0;34m,\u001b[0m \u001b[0mkey\u001b[0m\u001b[0;34m,\u001b[0m \u001b[0mvalue\u001b[0m\u001b[0;34m)\u001b[0m\u001b[0;34m:\u001b[0m\u001b[0;34m\u001b[0m\u001b[0m\n",
      "\u001b[0;32m~/anaconda/lib/python3.6/site-packages/pandas/core/frame.py\u001b[0m in \u001b[0;36m_set_item\u001b[0;34m(self, key, value)\u001b[0m\n\u001b[1;32m   2583\u001b[0m \u001b[0;34m\u001b[0m\u001b[0m\n\u001b[1;32m   2584\u001b[0m         \u001b[0mself\u001b[0m\u001b[0;34m.\u001b[0m\u001b[0m_ensure_valid_index\u001b[0m\u001b[0;34m(\u001b[0m\u001b[0mvalue\u001b[0m\u001b[0;34m)\u001b[0m\u001b[0;34m\u001b[0m\u001b[0m\n\u001b[0;32m-> 2585\u001b[0;31m         \u001b[0mvalue\u001b[0m \u001b[0;34m=\u001b[0m \u001b[0mself\u001b[0m\u001b[0;34m.\u001b[0m\u001b[0m_sanitize_column\u001b[0m\u001b[0;34m(\u001b[0m\u001b[0mkey\u001b[0m\u001b[0;34m,\u001b[0m \u001b[0mvalue\u001b[0m\u001b[0;34m)\u001b[0m\u001b[0;34m\u001b[0m\u001b[0m\n\u001b[0m\u001b[1;32m   2586\u001b[0m         \u001b[0mNDFrame\u001b[0m\u001b[0;34m.\u001b[0m\u001b[0m_set_item\u001b[0m\u001b[0;34m(\u001b[0m\u001b[0mself\u001b[0m\u001b[0;34m,\u001b[0m \u001b[0mkey\u001b[0m\u001b[0;34m,\u001b[0m \u001b[0mvalue\u001b[0m\u001b[0;34m)\u001b[0m\u001b[0;34m\u001b[0m\u001b[0m\n\u001b[1;32m   2587\u001b[0m \u001b[0;34m\u001b[0m\u001b[0m\n",
      "\u001b[0;32m~/anaconda/lib/python3.6/site-packages/pandas/core/frame.py\u001b[0m in \u001b[0;36m_sanitize_column\u001b[0;34m(self, key, value, broadcast)\u001b[0m\n\u001b[1;32m   2758\u001b[0m \u001b[0;34m\u001b[0m\u001b[0m\n\u001b[1;32m   2759\u001b[0m             \u001b[0;31m# turn me into an ndarray\u001b[0m\u001b[0;34m\u001b[0m\u001b[0;34m\u001b[0m\u001b[0m\n\u001b[0;32m-> 2760\u001b[0;31m             \u001b[0mvalue\u001b[0m \u001b[0;34m=\u001b[0m \u001b[0m_sanitize_index\u001b[0m\u001b[0;34m(\u001b[0m\u001b[0mvalue\u001b[0m\u001b[0;34m,\u001b[0m \u001b[0mself\u001b[0m\u001b[0;34m.\u001b[0m\u001b[0mindex\u001b[0m\u001b[0;34m,\u001b[0m \u001b[0mcopy\u001b[0m\u001b[0;34m=\u001b[0m\u001b[0;32mFalse\u001b[0m\u001b[0;34m)\u001b[0m\u001b[0;34m\u001b[0m\u001b[0m\n\u001b[0m\u001b[1;32m   2761\u001b[0m             \u001b[0;32mif\u001b[0m \u001b[0;32mnot\u001b[0m \u001b[0misinstance\u001b[0m\u001b[0;34m(\u001b[0m\u001b[0mvalue\u001b[0m\u001b[0;34m,\u001b[0m \u001b[0;34m(\u001b[0m\u001b[0mnp\u001b[0m\u001b[0;34m.\u001b[0m\u001b[0mndarray\u001b[0m\u001b[0;34m,\u001b[0m \u001b[0mIndex\u001b[0m\u001b[0;34m)\u001b[0m\u001b[0;34m)\u001b[0m\u001b[0;34m:\u001b[0m\u001b[0;34m\u001b[0m\u001b[0m\n\u001b[1;32m   2762\u001b[0m                 \u001b[0;32mif\u001b[0m \u001b[0misinstance\u001b[0m\u001b[0;34m(\u001b[0m\u001b[0mvalue\u001b[0m\u001b[0;34m,\u001b[0m \u001b[0mlist\u001b[0m\u001b[0;34m)\u001b[0m \u001b[0;32mand\u001b[0m \u001b[0mlen\u001b[0m\u001b[0;34m(\u001b[0m\u001b[0mvalue\u001b[0m\u001b[0;34m)\u001b[0m \u001b[0;34m>\u001b[0m \u001b[0;36m0\u001b[0m\u001b[0;34m:\u001b[0m\u001b[0;34m\u001b[0m\u001b[0m\n",
      "\u001b[0;32m~/anaconda/lib/python3.6/site-packages/pandas/core/series.py\u001b[0m in \u001b[0;36m_sanitize_index\u001b[0;34m(data, index, copy)\u001b[0m\n\u001b[1;32m   3119\u001b[0m \u001b[0;34m\u001b[0m\u001b[0m\n\u001b[1;32m   3120\u001b[0m     \u001b[0;32mif\u001b[0m \u001b[0mlen\u001b[0m\u001b[0;34m(\u001b[0m\u001b[0mdata\u001b[0m\u001b[0;34m)\u001b[0m \u001b[0;34m!=\u001b[0m \u001b[0mlen\u001b[0m\u001b[0;34m(\u001b[0m\u001b[0mindex\u001b[0m\u001b[0;34m)\u001b[0m\u001b[0;34m:\u001b[0m\u001b[0;34m\u001b[0m\u001b[0m\n\u001b[0;32m-> 3121\u001b[0;31m         \u001b[0;32mraise\u001b[0m \u001b[0mValueError\u001b[0m\u001b[0;34m(\u001b[0m\u001b[0;34m'Length of values does not match length of '\u001b[0m \u001b[0;34m'index'\u001b[0m\u001b[0;34m)\u001b[0m\u001b[0;34m\u001b[0m\u001b[0m\n\u001b[0m\u001b[1;32m   3122\u001b[0m \u001b[0;34m\u001b[0m\u001b[0m\n\u001b[1;32m   3123\u001b[0m     \u001b[0;32mif\u001b[0m \u001b[0misinstance\u001b[0m\u001b[0;34m(\u001b[0m\u001b[0mdata\u001b[0m\u001b[0;34m,\u001b[0m \u001b[0mPeriodIndex\u001b[0m\u001b[0;34m)\u001b[0m\u001b[0;34m:\u001b[0m\u001b[0;34m\u001b[0m\u001b[0m\n",
      "\u001b[0;31mValueError\u001b[0m: Length of values does not match length of index"
     ]
    }
   ],
   "source": [
    "# out_file['Berkeley'] = datafile_counts[0]"
   ]
  },
  {
   "cell_type": "code",
   "execution_count": 89,
   "metadata": {},
   "outputs": [
    {
     "data": {
      "text/html": [
       "<div>\n",
       "<style scoped>\n",
       "    .dataframe tbody tr th:only-of-type {\n",
       "        vertical-align: middle;\n",
       "    }\n",
       "\n",
       "    .dataframe tbody tr th {\n",
       "        vertical-align: top;\n",
       "    }\n",
       "\n",
       "    .dataframe thead th {\n",
       "        text-align: right;\n",
       "    }\n",
       "</style>\n",
       "<table border=\"1\" class=\"dataframe\">\n",
       "  <thead>\n",
       "    <tr style=\"text-align: right;\">\n",
       "      <th></th>\n",
       "      <th>Upper Bounds</th>\n",
       "      <th>Berkeley</th>\n",
       "    </tr>\n",
       "  </thead>\n",
       "  <tbody>\n",
       "    <tr>\n",
       "      <th>0</th>\n",
       "      <td>67</td>\n",
       "      <td>6</td>\n",
       "    </tr>\n",
       "    <tr>\n",
       "      <th>1</th>\n",
       "      <td>394</td>\n",
       "      <td>7</td>\n",
       "    </tr>\n",
       "    <tr>\n",
       "      <th>2</th>\n",
       "      <td>655</td>\n",
       "      <td>8</td>\n",
       "    </tr>\n",
       "    <tr>\n",
       "      <th>3</th>\n",
       "      <td>720</td>\n",
       "      <td>10</td>\n",
       "    </tr>\n",
       "    <tr>\n",
       "      <th>4</th>\n",
       "      <td>1112</td>\n",
       "      <td>11</td>\n",
       "    </tr>\n",
       "    <tr>\n",
       "      <th>5</th>\n",
       "      <td>1178</td>\n",
       "      <td>12</td>\n",
       "    </tr>\n",
       "    <tr>\n",
       "      <th>6</th>\n",
       "      <td>1243</td>\n",
       "      <td>23</td>\n",
       "    </tr>\n",
       "    <tr>\n",
       "      <th>7</th>\n",
       "      <td>1309</td>\n",
       "      <td>24</td>\n",
       "    </tr>\n",
       "  </tbody>\n",
       "</table>\n",
       "</div>"
      ],
      "text/plain": [
       "   Upper Bounds  Berkeley\n",
       "0            67         6\n",
       "1           394         7\n",
       "2           655         8\n",
       "3           720        10\n",
       "4          1112        11\n",
       "5          1178        12\n",
       "6          1243        23\n",
       "7          1309        24"
      ]
     },
     "execution_count": 89,
     "metadata": {},
     "output_type": "execute_result"
    }
   ],
   "source": [
    "out_file"
   ]
  },
  {
   "cell_type": "code",
   "execution_count": 103,
   "metadata": {},
   "outputs": [],
   "source": [
    "int_upper_bounds.append(int(1e8))"
   ]
  },
  {
   "cell_type": "code",
   "execution_count": 104,
   "metadata": {},
   "outputs": [
    {
     "data": {
      "text/plain": [
       "[67, 394, 655, 720, 1112, 1178, 1243, 1309, 100000000]"
      ]
     },
     "execution_count": 104,
     "metadata": {},
     "output_type": "execute_result"
    }
   ],
   "source": [
    "int_upper_bounds"
   ]
  },
  {
   "cell_type": "markdown",
   "metadata": {},
   "source": [
    "# All Other Cites"
   ]
  },
  {
   "cell_type": "code",
   "execution_count": 115,
   "metadata": {},
   "outputs": [],
   "source": [
    "for i in range(1, len(datafile_paths)): \n",
    "#     current_df = pd.read_csv(datafile_paths[i])\n",
    "    if i in [1, 4, 5]: \n",
    "        update_times = list(pd.read_csv(datafile_paths[i])['4/30/18 - time rows updated(days)'])\n",
    "    elif i in [2, 3]: \n",
    "        update_times = list(pd.read_csv(datafile_paths[i])['4/30/18 - time updated(days)'])\n",
    "#     else: \n",
    "#         print(pd.read_csv(datafile_paths[i]).columns.values)\n",
    "#      = list(current_df['4/30/18 - time rows updated(days)'])\n",
    "    sorted_update_times = sorted(update_times)\n",
    "    \n",
    "    out_counts = []\n",
    "    cur_upper_bound_index = 0\n",
    "    cur_upper_bound = int_upper_bounds[cur_upper_bound_index]\n",
    "    \n",
    "    #establish current upper bound for least value \n",
    "    while sorted_update_times[0] > cur_upper_bound: \n",
    "        out_counts.append(0)\n",
    "        cur_upper_bound_index += 1\n",
    "        cur_upper_bound = int_upper_bounds[cur_upper_bound_index]\n",
    "    out_counts.append(1)\n",
    "    \n",
    "    #loop through all other values\n",
    "    for i in range(1, len(sorted_update_times)): \n",
    "        if sorted_update_times[i] < cur_upper_bound: \n",
    "            out_counts[-1] += 1\n",
    "        else: \n",
    "            cur_upper_bound_index += 1\n",
    "            cur_upper_bound = int_upper_bounds[cur_upper_bound_index]\n",
    "            out_counts.append(1)\n",
    "    if len(out_counts) < len(int_upper_bounds): \n",
    "        num_missing = len(int_upper_bounds) - len(out_counts)\n",
    "        out_counts += [sum(out_counts)] * num_missing\n",
    "    datafile_counts.append(out_counts)"
   ]
  },
  {
   "cell_type": "code",
   "execution_count": 116,
   "metadata": {},
   "outputs": [
    {
     "data": {
      "text/plain": [
       "[array([ 6,  7,  8, 10, 11, 12, 23, 24]),\n",
       " [1, 7, 1, 2, 1, 12, 12, 12, 12],\n",
       " [4, 6, 3, 1, 35, 2, 1, 1, 23],\n",
       " [1, 5, 1, 1, 2, 1, 1, 12, 12],\n",
       " [141, 68, 17, 5, 28, 1, 2, 5, 39],\n",
       " [78, 26, 6, 1, 2, 1, 114, 114, 114]]"
      ]
     },
     "execution_count": 116,
     "metadata": {},
     "output_type": "execute_result"
    }
   ],
   "source": [
    "datafile_counts"
   ]
  },
  {
   "cell_type": "code",
   "execution_count": 119,
   "metadata": {},
   "outputs": [],
   "source": [
    "datafile_counts[0] = list(datafile_counts[0]) + [24]"
   ]
  },
  {
   "cell_type": "code",
   "execution_count": 120,
   "metadata": {},
   "outputs": [
    {
     "data": {
      "text/plain": [
       "[[6, 7, 8, 10, 11, 12, 23, 24, 24],\n",
       " [1, 7, 1, 2, 1, 12, 12, 12, 12],\n",
       " [4, 6, 3, 1, 35, 2, 1, 1, 23],\n",
       " [1, 5, 1, 1, 2, 1, 1, 12, 12],\n",
       " [141, 68, 17, 5, 28, 1, 2, 5, 39],\n",
       " [78, 26, 6, 1, 2, 1, 114, 114, 114]]"
      ]
     },
     "execution_count": 120,
     "metadata": {},
     "output_type": "execute_result"
    }
   ],
   "source": [
    "datafile_counts"
   ]
  },
  {
   "cell_type": "code",
   "execution_count": 121,
   "metadata": {},
   "outputs": [
    {
     "data": {
      "text/plain": [
       "[9, 9, 9, 9, 9, 9]"
      ]
     },
     "execution_count": 121,
     "metadata": {},
     "output_type": "execute_result"
    }
   ],
   "source": [
    "[len(x) for x in datafile_counts]"
   ]
  },
  {
   "cell_type": "markdown",
   "metadata": {},
   "source": [
    "# Write to File"
   ]
  },
  {
   "cell_type": "code",
   "execution_count": 123,
   "metadata": {},
   "outputs": [],
   "source": [
    "max_update_time = 0\n",
    "for i in range(len(datafile_paths)): \n",
    "#     current_df = pd.read_csv(datafile_paths[i])\n",
    "    if i in [1, 4, 5]: \n",
    "        update_times = list(pd.read_csv(datafile_paths[i])['4/30/18 - time rows updated(days)'])\n",
    "    elif i in [2, 3]: \n",
    "        update_times = list(pd.read_csv(datafile_paths[i])['4/30/18 - time updated(days)'])\n",
    "    if max(update_times) > max_update_time:\n",
    "        max_update_time = max(update_times)"
   ]
  },
  {
   "cell_type": "code",
   "execution_count": 124,
   "metadata": {},
   "outputs": [
    {
     "data": {
      "text/plain": [
       "2363"
      ]
     },
     "execution_count": 124,
     "metadata": {},
     "output_type": "execute_result"
    }
   ],
   "source": [
    "max_update_time"
   ]
  },
  {
   "cell_type": "code",
   "execution_count": 127,
   "metadata": {},
   "outputs": [],
   "source": [
    "int_upper_bounds[-1] = max_update_time + 1"
   ]
  },
  {
   "cell_type": "code",
   "execution_count": 128,
   "metadata": {},
   "outputs": [
    {
     "data": {
      "text/plain": [
       "[67, 394, 655, 720, 1112, 1178, 1243, 1309, 2364]"
      ]
     },
     "execution_count": 128,
     "metadata": {},
     "output_type": "execute_result"
    }
   ],
   "source": [
    "int_upper_bounds"
   ]
  },
  {
   "cell_type": "code",
   "execution_count": 129,
   "metadata": {},
   "outputs": [],
   "source": [
    "out_file['Upper Bounds'] = int_upper_bounds"
   ]
  },
  {
   "cell_type": "code",
   "execution_count": 130,
   "metadata": {},
   "outputs": [
    {
     "data": {
      "text/html": [
       "<div>\n",
       "<style scoped>\n",
       "    .dataframe tbody tr th:only-of-type {\n",
       "        vertical-align: middle;\n",
       "    }\n",
       "\n",
       "    .dataframe tbody tr th {\n",
       "        vertical-align: top;\n",
       "    }\n",
       "\n",
       "    .dataframe thead th {\n",
       "        text-align: right;\n",
       "    }\n",
       "</style>\n",
       "<table border=\"1\" class=\"dataframe\">\n",
       "  <thead>\n",
       "    <tr style=\"text-align: right;\">\n",
       "      <th></th>\n",
       "      <th>Upper Bounds</th>\n",
       "      <th>Berkeley</th>\n",
       "    </tr>\n",
       "  </thead>\n",
       "  <tbody>\n",
       "    <tr>\n",
       "      <th>0</th>\n",
       "      <td>67</td>\n",
       "      <td>NaN</td>\n",
       "    </tr>\n",
       "    <tr>\n",
       "      <th>1</th>\n",
       "      <td>394</td>\n",
       "      <td>NaN</td>\n",
       "    </tr>\n",
       "    <tr>\n",
       "      <th>2</th>\n",
       "      <td>655</td>\n",
       "      <td>NaN</td>\n",
       "    </tr>\n",
       "    <tr>\n",
       "      <th>3</th>\n",
       "      <td>720</td>\n",
       "      <td>NaN</td>\n",
       "    </tr>\n",
       "    <tr>\n",
       "      <th>4</th>\n",
       "      <td>1112</td>\n",
       "      <td>NaN</td>\n",
       "    </tr>\n",
       "    <tr>\n",
       "      <th>5</th>\n",
       "      <td>1178</td>\n",
       "      <td>NaN</td>\n",
       "    </tr>\n",
       "    <tr>\n",
       "      <th>6</th>\n",
       "      <td>1243</td>\n",
       "      <td>NaN</td>\n",
       "    </tr>\n",
       "    <tr>\n",
       "      <th>7</th>\n",
       "      <td>1309</td>\n",
       "      <td>NaN</td>\n",
       "    </tr>\n",
       "    <tr>\n",
       "      <th>8</th>\n",
       "      <td>2364</td>\n",
       "      <td>NaN</td>\n",
       "    </tr>\n",
       "  </tbody>\n",
       "</table>\n",
       "</div>"
      ],
      "text/plain": [
       "   Upper Bounds Berkeley\n",
       "0            67      NaN\n",
       "1           394      NaN\n",
       "2           655      NaN\n",
       "3           720      NaN\n",
       "4          1112      NaN\n",
       "5          1178      NaN\n",
       "6          1243      NaN\n",
       "7          1309      NaN\n",
       "8          2364      NaN"
      ]
     },
     "execution_count": 130,
     "metadata": {},
     "output_type": "execute_result"
    }
   ],
   "source": [
    "out_file"
   ]
  },
  {
   "cell_type": "code",
   "execution_count": 134,
   "metadata": {},
   "outputs": [
    {
     "name": "stdout",
     "output_type": "stream",
     "text": [
      "berkeley\n",
      "menlopark\n",
      "oakland\n",
      "richmond\n",
      "sanfrancisco\n",
      "santarosa\n"
     ]
    }
   ],
   "source": [
    "for i in range(len(datafile_paths)): \n",
    "    filename = datafile_paths[i].split('/Users/akhiljalan/Downloads/')[-1]\n",
    "    city_name = filename.split('_')[0]\n",
    "    print(city_name)"
   ]
  },
  {
   "cell_type": "code",
   "execution_count": 135,
   "metadata": {},
   "outputs": [
    {
     "data": {
      "text/plain": [
       "[[6, 7, 8, 10, 11, 12, 23, 24, 24],\n",
       " [1, 7, 1, 2, 1, 12, 12, 12, 12],\n",
       " [4, 6, 3, 1, 35, 2, 1, 1, 23],\n",
       " [1, 5, 1, 1, 2, 1, 1, 12, 12],\n",
       " [141, 68, 17, 5, 28, 1, 2, 5, 39],\n",
       " [78, 26, 6, 1, 2, 1, 114, 114, 114]]"
      ]
     },
     "execution_count": 135,
     "metadata": {},
     "output_type": "execute_result"
    }
   ],
   "source": [
    "datafile_counts"
   ]
  },
  {
   "cell_type": "code",
   "execution_count": 136,
   "metadata": {},
   "outputs": [],
   "source": [
    "out_file['Berkeley'] = datafile_counts[0]\n",
    "out_file['Menlo Park'] = datafile_counts[1]"
   ]
  },
  {
   "cell_type": "code",
   "execution_count": 137,
   "metadata": {},
   "outputs": [
    {
     "data": {
      "text/html": [
       "<div>\n",
       "<style scoped>\n",
       "    .dataframe tbody tr th:only-of-type {\n",
       "        vertical-align: middle;\n",
       "    }\n",
       "\n",
       "    .dataframe tbody tr th {\n",
       "        vertical-align: top;\n",
       "    }\n",
       "\n",
       "    .dataframe thead th {\n",
       "        text-align: right;\n",
       "    }\n",
       "</style>\n",
       "<table border=\"1\" class=\"dataframe\">\n",
       "  <thead>\n",
       "    <tr style=\"text-align: right;\">\n",
       "      <th></th>\n",
       "      <th>Upper Bounds</th>\n",
       "      <th>Berkeley</th>\n",
       "      <th>Menlo Park</th>\n",
       "    </tr>\n",
       "  </thead>\n",
       "  <tbody>\n",
       "    <tr>\n",
       "      <th>0</th>\n",
       "      <td>67</td>\n",
       "      <td>6</td>\n",
       "      <td>1</td>\n",
       "    </tr>\n",
       "    <tr>\n",
       "      <th>1</th>\n",
       "      <td>394</td>\n",
       "      <td>7</td>\n",
       "      <td>7</td>\n",
       "    </tr>\n",
       "    <tr>\n",
       "      <th>2</th>\n",
       "      <td>655</td>\n",
       "      <td>8</td>\n",
       "      <td>1</td>\n",
       "    </tr>\n",
       "    <tr>\n",
       "      <th>3</th>\n",
       "      <td>720</td>\n",
       "      <td>10</td>\n",
       "      <td>2</td>\n",
       "    </tr>\n",
       "    <tr>\n",
       "      <th>4</th>\n",
       "      <td>1112</td>\n",
       "      <td>11</td>\n",
       "      <td>1</td>\n",
       "    </tr>\n",
       "    <tr>\n",
       "      <th>5</th>\n",
       "      <td>1178</td>\n",
       "      <td>12</td>\n",
       "      <td>12</td>\n",
       "    </tr>\n",
       "    <tr>\n",
       "      <th>6</th>\n",
       "      <td>1243</td>\n",
       "      <td>23</td>\n",
       "      <td>12</td>\n",
       "    </tr>\n",
       "    <tr>\n",
       "      <th>7</th>\n",
       "      <td>1309</td>\n",
       "      <td>24</td>\n",
       "      <td>12</td>\n",
       "    </tr>\n",
       "    <tr>\n",
       "      <th>8</th>\n",
       "      <td>2364</td>\n",
       "      <td>24</td>\n",
       "      <td>12</td>\n",
       "    </tr>\n",
       "  </tbody>\n",
       "</table>\n",
       "</div>"
      ],
      "text/plain": [
       "   Upper Bounds  Berkeley  Menlo Park\n",
       "0            67         6           1\n",
       "1           394         7           7\n",
       "2           655         8           1\n",
       "3           720        10           2\n",
       "4          1112        11           1\n",
       "5          1178        12          12\n",
       "6          1243        23          12\n",
       "7          1309        24          12\n",
       "8          2364        24          12"
      ]
     },
     "execution_count": 137,
     "metadata": {},
     "output_type": "execute_result"
    }
   ],
   "source": [
    "out_file"
   ]
  },
  {
   "cell_type": "code",
   "execution_count": 138,
   "metadata": {},
   "outputs": [],
   "source": [
    "out_file['Oakland'] = datafile_counts[2]"
   ]
  },
  {
   "cell_type": "code",
   "execution_count": 139,
   "metadata": {},
   "outputs": [],
   "source": [
    "out_file['Richmond'] = datafile_counts[3]"
   ]
  },
  {
   "cell_type": "code",
   "execution_count": 140,
   "metadata": {},
   "outputs": [],
   "source": [
    "out_file['San Francisco'] = datafile_counts[4]"
   ]
  },
  {
   "cell_type": "code",
   "execution_count": 141,
   "metadata": {},
   "outputs": [],
   "source": [
    "out_file['Santa Rosa'] = datafile_counts[5]"
   ]
  },
  {
   "cell_type": "code",
   "execution_count": 142,
   "metadata": {},
   "outputs": [
    {
     "data": {
      "text/html": [
       "<div>\n",
       "<style scoped>\n",
       "    .dataframe tbody tr th:only-of-type {\n",
       "        vertical-align: middle;\n",
       "    }\n",
       "\n",
       "    .dataframe tbody tr th {\n",
       "        vertical-align: top;\n",
       "    }\n",
       "\n",
       "    .dataframe thead th {\n",
       "        text-align: right;\n",
       "    }\n",
       "</style>\n",
       "<table border=\"1\" class=\"dataframe\">\n",
       "  <thead>\n",
       "    <tr style=\"text-align: right;\">\n",
       "      <th></th>\n",
       "      <th>Upper Bounds</th>\n",
       "      <th>Berkeley</th>\n",
       "      <th>Menlo Park</th>\n",
       "      <th>Oakland</th>\n",
       "      <th>Richmond</th>\n",
       "      <th>San Francisco</th>\n",
       "      <th>Santa Rosa</th>\n",
       "    </tr>\n",
       "  </thead>\n",
       "  <tbody>\n",
       "    <tr>\n",
       "      <th>0</th>\n",
       "      <td>67</td>\n",
       "      <td>6</td>\n",
       "      <td>1</td>\n",
       "      <td>4</td>\n",
       "      <td>1</td>\n",
       "      <td>141</td>\n",
       "      <td>78</td>\n",
       "    </tr>\n",
       "    <tr>\n",
       "      <th>1</th>\n",
       "      <td>394</td>\n",
       "      <td>7</td>\n",
       "      <td>7</td>\n",
       "      <td>6</td>\n",
       "      <td>5</td>\n",
       "      <td>68</td>\n",
       "      <td>26</td>\n",
       "    </tr>\n",
       "    <tr>\n",
       "      <th>2</th>\n",
       "      <td>655</td>\n",
       "      <td>8</td>\n",
       "      <td>1</td>\n",
       "      <td>3</td>\n",
       "      <td>1</td>\n",
       "      <td>17</td>\n",
       "      <td>6</td>\n",
       "    </tr>\n",
       "    <tr>\n",
       "      <th>3</th>\n",
       "      <td>720</td>\n",
       "      <td>10</td>\n",
       "      <td>2</td>\n",
       "      <td>1</td>\n",
       "      <td>1</td>\n",
       "      <td>5</td>\n",
       "      <td>1</td>\n",
       "    </tr>\n",
       "    <tr>\n",
       "      <th>4</th>\n",
       "      <td>1112</td>\n",
       "      <td>11</td>\n",
       "      <td>1</td>\n",
       "      <td>35</td>\n",
       "      <td>2</td>\n",
       "      <td>28</td>\n",
       "      <td>2</td>\n",
       "    </tr>\n",
       "    <tr>\n",
       "      <th>5</th>\n",
       "      <td>1178</td>\n",
       "      <td>12</td>\n",
       "      <td>12</td>\n",
       "      <td>2</td>\n",
       "      <td>1</td>\n",
       "      <td>1</td>\n",
       "      <td>1</td>\n",
       "    </tr>\n",
       "    <tr>\n",
       "      <th>6</th>\n",
       "      <td>1243</td>\n",
       "      <td>23</td>\n",
       "      <td>12</td>\n",
       "      <td>1</td>\n",
       "      <td>1</td>\n",
       "      <td>2</td>\n",
       "      <td>114</td>\n",
       "    </tr>\n",
       "    <tr>\n",
       "      <th>7</th>\n",
       "      <td>1309</td>\n",
       "      <td>24</td>\n",
       "      <td>12</td>\n",
       "      <td>1</td>\n",
       "      <td>12</td>\n",
       "      <td>5</td>\n",
       "      <td>114</td>\n",
       "    </tr>\n",
       "    <tr>\n",
       "      <th>8</th>\n",
       "      <td>2364</td>\n",
       "      <td>24</td>\n",
       "      <td>12</td>\n",
       "      <td>23</td>\n",
       "      <td>12</td>\n",
       "      <td>39</td>\n",
       "      <td>114</td>\n",
       "    </tr>\n",
       "  </tbody>\n",
       "</table>\n",
       "</div>"
      ],
      "text/plain": [
       "   Upper Bounds  Berkeley  Menlo Park  Oakland  Richmond  San Francisco  \\\n",
       "0            67         6           1        4         1            141   \n",
       "1           394         7           7        6         5             68   \n",
       "2           655         8           1        3         1             17   \n",
       "3           720        10           2        1         1              5   \n",
       "4          1112        11           1       35         2             28   \n",
       "5          1178        12          12        2         1              1   \n",
       "6          1243        23          12        1         1              2   \n",
       "7          1309        24          12        1        12              5   \n",
       "8          2364        24          12       23        12             39   \n",
       "\n",
       "   Santa Rosa  \n",
       "0          78  \n",
       "1          26  \n",
       "2           6  \n",
       "3           1  \n",
       "4           2  \n",
       "5           1  \n",
       "6         114  \n",
       "7         114  \n",
       "8         114  "
      ]
     },
     "execution_count": 142,
     "metadata": {},
     "output_type": "execute_result"
    }
   ],
   "source": [
    "out_file"
   ]
  },
  {
   "cell_type": "code",
   "execution_count": 143,
   "metadata": {},
   "outputs": [
    {
     "data": {
      "text/plain": [
       "array([ 1,  6,  7,  8, 10, 11, 12, 24, 36])"
      ]
     },
     "execution_count": 143,
     "metadata": {},
     "output_type": "execute_result"
    }
   ],
   "source": [
    "np.cumsum(datafile_counts[3])"
   ]
  },
  {
   "cell_type": "code",
   "execution_count": 144,
   "metadata": {},
   "outputs": [],
   "source": [
    "col_names = out_file.columns.values"
   ]
  },
  {
   "cell_type": "code",
   "execution_count": 146,
   "metadata": {},
   "outputs": [],
   "source": [
    "for name in col_names[1:]:\n",
    "    cum_sum = np.cumsum(out_file[name])\n",
    "    out_file[name] = cum_sum"
   ]
  },
  {
   "cell_type": "code",
   "execution_count": 148,
   "metadata": {},
   "outputs": [],
   "source": [
    "for name in col_names[1:]:\n",
    "    percentage_vals = out_file[name] / max(out_file[name])\n",
    "    out_file[name] = percentage_vals"
   ]
  },
  {
   "cell_type": "code",
   "execution_count": 149,
   "metadata": {},
   "outputs": [
    {
     "data": {
      "text/html": [
       "<div>\n",
       "<style scoped>\n",
       "    .dataframe tbody tr th:only-of-type {\n",
       "        vertical-align: middle;\n",
       "    }\n",
       "\n",
       "    .dataframe tbody tr th {\n",
       "        vertical-align: top;\n",
       "    }\n",
       "\n",
       "    .dataframe thead th {\n",
       "        text-align: right;\n",
       "    }\n",
       "</style>\n",
       "<table border=\"1\" class=\"dataframe\">\n",
       "  <thead>\n",
       "    <tr style=\"text-align: right;\">\n",
       "      <th></th>\n",
       "      <th>Upper Bounds</th>\n",
       "      <th>Berkeley</th>\n",
       "      <th>Menlo Park</th>\n",
       "      <th>Oakland</th>\n",
       "      <th>Richmond</th>\n",
       "      <th>San Francisco</th>\n",
       "      <th>Santa Rosa</th>\n",
       "    </tr>\n",
       "  </thead>\n",
       "  <tbody>\n",
       "    <tr>\n",
       "      <th>0</th>\n",
       "      <td>67</td>\n",
       "      <td>0.048</td>\n",
       "      <td>0.016667</td>\n",
       "      <td>0.052632</td>\n",
       "      <td>0.027778</td>\n",
       "      <td>0.460784</td>\n",
       "      <td>0.171053</td>\n",
       "    </tr>\n",
       "    <tr>\n",
       "      <th>1</th>\n",
       "      <td>394</td>\n",
       "      <td>0.104</td>\n",
       "      <td>0.133333</td>\n",
       "      <td>0.131579</td>\n",
       "      <td>0.166667</td>\n",
       "      <td>0.683007</td>\n",
       "      <td>0.228070</td>\n",
       "    </tr>\n",
       "    <tr>\n",
       "      <th>2</th>\n",
       "      <td>655</td>\n",
       "      <td>0.168</td>\n",
       "      <td>0.150000</td>\n",
       "      <td>0.171053</td>\n",
       "      <td>0.194444</td>\n",
       "      <td>0.738562</td>\n",
       "      <td>0.241228</td>\n",
       "    </tr>\n",
       "    <tr>\n",
       "      <th>3</th>\n",
       "      <td>720</td>\n",
       "      <td>0.248</td>\n",
       "      <td>0.183333</td>\n",
       "      <td>0.184211</td>\n",
       "      <td>0.222222</td>\n",
       "      <td>0.754902</td>\n",
       "      <td>0.243421</td>\n",
       "    </tr>\n",
       "    <tr>\n",
       "      <th>4</th>\n",
       "      <td>1112</td>\n",
       "      <td>0.336</td>\n",
       "      <td>0.200000</td>\n",
       "      <td>0.644737</td>\n",
       "      <td>0.277778</td>\n",
       "      <td>0.846405</td>\n",
       "      <td>0.247807</td>\n",
       "    </tr>\n",
       "    <tr>\n",
       "      <th>5</th>\n",
       "      <td>1178</td>\n",
       "      <td>0.432</td>\n",
       "      <td>0.400000</td>\n",
       "      <td>0.671053</td>\n",
       "      <td>0.305556</td>\n",
       "      <td>0.849673</td>\n",
       "      <td>0.250000</td>\n",
       "    </tr>\n",
       "    <tr>\n",
       "      <th>6</th>\n",
       "      <td>1243</td>\n",
       "      <td>0.616</td>\n",
       "      <td>0.600000</td>\n",
       "      <td>0.684211</td>\n",
       "      <td>0.333333</td>\n",
       "      <td>0.856209</td>\n",
       "      <td>0.500000</td>\n",
       "    </tr>\n",
       "    <tr>\n",
       "      <th>7</th>\n",
       "      <td>1309</td>\n",
       "      <td>0.808</td>\n",
       "      <td>0.800000</td>\n",
       "      <td>0.697368</td>\n",
       "      <td>0.666667</td>\n",
       "      <td>0.872549</td>\n",
       "      <td>0.750000</td>\n",
       "    </tr>\n",
       "    <tr>\n",
       "      <th>8</th>\n",
       "      <td>2364</td>\n",
       "      <td>1.000</td>\n",
       "      <td>1.000000</td>\n",
       "      <td>1.000000</td>\n",
       "      <td>1.000000</td>\n",
       "      <td>1.000000</td>\n",
       "      <td>1.000000</td>\n",
       "    </tr>\n",
       "  </tbody>\n",
       "</table>\n",
       "</div>"
      ],
      "text/plain": [
       "   Upper Bounds  Berkeley  Menlo Park   Oakland  Richmond  San Francisco  \\\n",
       "0            67     0.048    0.016667  0.052632  0.027778       0.460784   \n",
       "1           394     0.104    0.133333  0.131579  0.166667       0.683007   \n",
       "2           655     0.168    0.150000  0.171053  0.194444       0.738562   \n",
       "3           720     0.248    0.183333  0.184211  0.222222       0.754902   \n",
       "4          1112     0.336    0.200000  0.644737  0.277778       0.846405   \n",
       "5          1178     0.432    0.400000  0.671053  0.305556       0.849673   \n",
       "6          1243     0.616    0.600000  0.684211  0.333333       0.856209   \n",
       "7          1309     0.808    0.800000  0.697368  0.666667       0.872549   \n",
       "8          2364     1.000    1.000000  1.000000  1.000000       1.000000   \n",
       "\n",
       "   Santa Rosa  \n",
       "0    0.171053  \n",
       "1    0.228070  \n",
       "2    0.241228  \n",
       "3    0.243421  \n",
       "4    0.247807  \n",
       "5    0.250000  \n",
       "6    0.500000  \n",
       "7    0.750000  \n",
       "8    1.000000  "
      ]
     },
     "execution_count": 149,
     "metadata": {},
     "output_type": "execute_result"
    }
   ],
   "source": [
    "out_file"
   ]
  },
  {
   "cell_type": "code",
   "execution_count": null,
   "metadata": {},
   "outputs": [],
   "source": [
    "out_file.to_csv('')"
   ]
  },
  {
   "cell_type": "code",
   "execution_count": null,
   "metadata": {},
   "outputs": [],
   "source": []
  },
  {
   "cell_type": "code",
   "execution_count": 106,
   "metadata": {},
   "outputs": [
    {
     "data": {
      "text/plain": [
       "[78, 26, 6, 1, 2, 1]"
      ]
     },
     "execution_count": 106,
     "metadata": {},
     "output_type": "execute_result"
    }
   ],
   "source": [
    "out_counts"
   ]
  },
  {
   "cell_type": "code",
   "execution_count": 99,
   "metadata": {},
   "outputs": [
    {
     "data": {
      "text/html": [
       "<div>\n",
       "<style scoped>\n",
       "    .dataframe tbody tr th:only-of-type {\n",
       "        vertical-align: middle;\n",
       "    }\n",
       "\n",
       "    .dataframe tbody tr th {\n",
       "        vertical-align: top;\n",
       "    }\n",
       "\n",
       "    .dataframe thead th {\n",
       "        text-align: right;\n",
       "    }\n",
       "</style>\n",
       "<table border=\"1\" class=\"dataframe\">\n",
       "  <thead>\n",
       "    <tr style=\"text-align: right;\">\n",
       "      <th></th>\n",
       "      <th>Category</th>\n",
       "      <th>Created</th>\n",
       "      <th>Index Updated</th>\n",
       "      <th>Name</th>\n",
       "      <th>Number of Downloads</th>\n",
       "      <th>Number of Views</th>\n",
       "      <th>Tags</th>\n",
       "      <th>URL</th>\n",
       "      <th>View Last Modified</th>\n",
       "      <th>4/30/18 - time created(days)</th>\n",
       "      <th>4/30/18 - time updated(days)</th>\n",
       "    </tr>\n",
       "  </thead>\n",
       "  <tbody>\n",
       "    <tr>\n",
       "      <th>0</th>\n",
       "      <td>Financial</td>\n",
       "      <td>1366227257</td>\n",
       "      <td>1414703014</td>\n",
       "      <td>City of Oakland Proposed Policy Budget FY2013-15</td>\n",
       "      <td>642</td>\n",
       "      <td>15769</td>\n",
       "      <td>['budget', 'public', 'data', 'statistics', 'da...</td>\n",
       "      <td>https://data.oaklandnet.com/Financial/City-of-...</td>\n",
       "      <td>1426521841</td>\n",
       "      <td>1838</td>\n",
       "      <td>1838</td>\n",
       "    </tr>\n",
       "    <tr>\n",
       "      <th>1</th>\n",
       "      <td>Public Safety</td>\n",
       "      <td>1358971390</td>\n",
       "      <td>1524924060</td>\n",
       "      <td>CrimeWatch Maps Past 90-Days</td>\n",
       "      <td>3658</td>\n",
       "      <td>13527</td>\n",
       "      <td>['public', 'data', 'statistics', 'dataset']</td>\n",
       "      <td>https://data.oaklandnet.com/Public-Safety/Crim...</td>\n",
       "      <td>1426521839</td>\n",
       "      <td>1922</td>\n",
       "      <td>1</td>\n",
       "    </tr>\n",
       "    <tr>\n",
       "      <th>2</th>\n",
       "      <td>Infrastructure</td>\n",
       "      <td>1366135056</td>\n",
       "      <td>1522413430</td>\n",
       "      <td>Service requests received by the Oakland Call ...</td>\n",
       "      <td>1143</td>\n",
       "      <td>12830</td>\n",
       "      <td>['public works', 'service requests', 'pot hole...</td>\n",
       "      <td>https://data.oaklandnet.com/Infrastructure/Ser...</td>\n",
       "      <td>1491954484</td>\n",
       "      <td>1839</td>\n",
       "      <td>30</td>\n",
       "    </tr>\n",
       "    <tr>\n",
       "      <th>3</th>\n",
       "      <td>Infrastructure</td>\n",
       "      <td>1363734611</td>\n",
       "      <td>1414725798</td>\n",
       "      <td>Service requests received by Public Works</td>\n",
       "      <td>563</td>\n",
       "      <td>7634</td>\n",
       "      <td>['public works', 'service requests', 'pot hole...</td>\n",
       "      <td>https://data.oaklandnet.com/Infrastructure/Ser...</td>\n",
       "      <td>1426521840</td>\n",
       "      <td>1867</td>\n",
       "      <td>1867</td>\n",
       "    </tr>\n",
       "    <tr>\n",
       "      <th>4</th>\n",
       "      <td>Environmental</td>\n",
       "      <td>1358885493</td>\n",
       "      <td>1414647713</td>\n",
       "      <td>Oakland Street Trees</td>\n",
       "      <td>686</td>\n",
       "      <td>6888</td>\n",
       "      <td>['public', 'data', 'statistics', 'dataset']</td>\n",
       "      <td>https://data.oaklandnet.com/Environmental/Oakl...</td>\n",
       "      <td>1426521840</td>\n",
       "      <td>1923</td>\n",
       "      <td>1923</td>\n",
       "    </tr>\n",
       "    <tr>\n",
       "      <th>5</th>\n",
       "      <td>Public Safety</td>\n",
       "      <td>1434559472</td>\n",
       "      <td>1436914768</td>\n",
       "      <td>All license plate reader data (ALPR) 3/19/2014...</td>\n",
       "      <td>365</td>\n",
       "      <td>4596</td>\n",
       "      <td>['license plate', 'police department', 'public...</td>\n",
       "      <td>https://data.oaklandnet.com/Public-Safety/All-...</td>\n",
       "      <td>1436907018</td>\n",
       "      <td>1047</td>\n",
       "      <td>1047</td>\n",
       "    </tr>\n",
       "    <tr>\n",
       "      <th>6</th>\n",
       "      <td>Environmental</td>\n",
       "      <td>1358483748</td>\n",
       "      <td>1414726110</td>\n",
       "      <td>Public Works Volunteer Opportunities</td>\n",
       "      <td>479</td>\n",
       "      <td>3782</td>\n",
       "      <td>['public', 'data', 'statistics', 'dataset']</td>\n",
       "      <td>https://data.oaklandnet.com/Environmental/Publ...</td>\n",
       "      <td>1426521840</td>\n",
       "      <td>1928</td>\n",
       "      <td>1913</td>\n",
       "    </tr>\n",
       "    <tr>\n",
       "      <th>7</th>\n",
       "      <td>Public Services</td>\n",
       "      <td>1385510573</td>\n",
       "      <td>1414778268</td>\n",
       "      <td>Drainage Inlets</td>\n",
       "      <td>419</td>\n",
       "      <td>3085</td>\n",
       "      <td>['drain', 'inlet', 'drainage inlets', 'public'...</td>\n",
       "      <td>https://data.oaklandnet.com/Public-Services/Dr...</td>\n",
       "      <td>1385511212</td>\n",
       "      <td>1615</td>\n",
       "      <td>1615</td>\n",
       "    </tr>\n",
       "    <tr>\n",
       "      <th>8</th>\n",
       "      <td>Public Safety</td>\n",
       "      <td>1390344376</td>\n",
       "      <td>1414647003</td>\n",
       "      <td>Crimewatch Data 2013</td>\n",
       "      <td>531</td>\n",
       "      <td>3029</td>\n",
       "      <td>['crime', 'public', 'data', 'statistics', 'dat...</td>\n",
       "      <td>https://data.oaklandnet.com/Public-Safety/Crim...</td>\n",
       "      <td>1390344898</td>\n",
       "      <td>1559</td>\n",
       "      <td>1559</td>\n",
       "    </tr>\n",
       "    <tr>\n",
       "      <th>9</th>\n",
       "      <td>Financial</td>\n",
       "      <td>1395444862</td>\n",
       "      <td>1414777831</td>\n",
       "      <td>City of Oakland Adopted Policy Budget FY13-15</td>\n",
       "      <td>349</td>\n",
       "      <td>3024</td>\n",
       "      <td>['financial', 'budget', 'public', 'data', 'sta...</td>\n",
       "      <td>https://data.oaklandnet.com/Financial/City-of-...</td>\n",
       "      <td>1426521847</td>\n",
       "      <td>1500</td>\n",
       "      <td>1500</td>\n",
       "    </tr>\n",
       "    <tr>\n",
       "      <th>10</th>\n",
       "      <td>Financial</td>\n",
       "      <td>1430328034</td>\n",
       "      <td>1430425538</td>\n",
       "      <td>Proposed Budget for Fiscal Years 2015-2017</td>\n",
       "      <td>511</td>\n",
       "      <td>2941</td>\n",
       "      <td>['budget', 'public', 'data', 'statistics', 'da...</td>\n",
       "      <td>https://data.oaklandnet.com/Financial/Proposed...</td>\n",
       "      <td>1430424408</td>\n",
       "      <td>1096</td>\n",
       "      <td>1096</td>\n",
       "    </tr>\n",
       "    <tr>\n",
       "      <th>11</th>\n",
       "      <td>Financial</td>\n",
       "      <td>1401384875</td>\n",
       "      <td>1414702762</td>\n",
       "      <td>Campaign Finance - Filers with Delinquent Camp...</td>\n",
       "      <td>277</td>\n",
       "      <td>2792</td>\n",
       "      <td>['fppc', 'public ethics commission', 'pec', 'c...</td>\n",
       "      <td>https://data.oaklandnet.com/Financial/Campaign...</td>\n",
       "      <td>1402526389</td>\n",
       "      <td>1431</td>\n",
       "      <td>1431</td>\n",
       "    </tr>\n",
       "    <tr>\n",
       "      <th>12</th>\n",
       "      <td>Public Safety</td>\n",
       "      <td>1393022782</td>\n",
       "      <td>1414647230</td>\n",
       "      <td>Crimewatch Data 2012</td>\n",
       "      <td>451</td>\n",
       "      <td>2497</td>\n",
       "      <td>['public', 'data', 'statistics', 'dataset']</td>\n",
       "      <td>https://data.oaklandnet.com/Public-Safety/Crim...</td>\n",
       "      <td>1393276389</td>\n",
       "      <td>1528</td>\n",
       "      <td>1528</td>\n",
       "    </tr>\n",
       "    <tr>\n",
       "      <th>13</th>\n",
       "      <td>Financial</td>\n",
       "      <td>1427409480</td>\n",
       "      <td>1427412314</td>\n",
       "      <td>Five-Year Financial Forecast 2016-2020</td>\n",
       "      <td>357</td>\n",
       "      <td>1708</td>\n",
       "      <td>['budget', 'finance', 'survey', 'five-year', '...</td>\n",
       "      <td>https://data.oaklandnet.com/Financial/Five-Yea...</td>\n",
       "      <td>1427409692</td>\n",
       "      <td>1130</td>\n",
       "      <td>1130</td>\n",
       "    </tr>\n",
       "    <tr>\n",
       "      <th>14</th>\n",
       "      <td>Financial</td>\n",
       "      <td>1425316607</td>\n",
       "      <td>1425322094</td>\n",
       "      <td>Budget Data For Public Adopted FY2014-15 Midcy...</td>\n",
       "      <td>235</td>\n",
       "      <td>1526</td>\n",
       "      <td>['budget', 'finance', 'midcycle budget', 'publ...</td>\n",
       "      <td>https://data.oaklandnet.com/Financial/Budget-D...</td>\n",
       "      <td>1425317488</td>\n",
       "      <td>1154</td>\n",
       "      <td>1154</td>\n",
       "    </tr>\n",
       "    <tr>\n",
       "      <th>15</th>\n",
       "      <td>Public Safety</td>\n",
       "      <td>1434551060</td>\n",
       "      <td>1440171916</td>\n",
       "      <td>All license plate reader data (ALPR) 8/26/2012...</td>\n",
       "      <td>261</td>\n",
       "      <td>1410</td>\n",
       "      <td>['license plate', 'police department', 'public...</td>\n",
       "      <td>https://data.oaklandnet.com/Public-Safety/All-...</td>\n",
       "      <td>1440171539</td>\n",
       "      <td>1047</td>\n",
       "      <td>1047</td>\n",
       "    </tr>\n",
       "    <tr>\n",
       "      <th>16</th>\n",
       "      <td>Public Safety</td>\n",
       "      <td>1434574409</td>\n",
       "      <td>1434582370</td>\n",
       "      <td>All License Plate Reader Data (ALPR) September...</td>\n",
       "      <td>267</td>\n",
       "      <td>1402</td>\n",
       "      <td>['license plate', 'police department', 'public...</td>\n",
       "      <td>https://data.oaklandnet.com/Public-Safety/All-...</td>\n",
       "      <td>1434577858</td>\n",
       "      <td>1047</td>\n",
       "      <td>1047</td>\n",
       "    </tr>\n",
       "    <tr>\n",
       "      <th>17</th>\n",
       "      <td>Public Services</td>\n",
       "      <td>1448929477</td>\n",
       "      <td>1448939326</td>\n",
       "      <td>PRR #10437</td>\n",
       "      <td>198</td>\n",
       "      <td>1397</td>\n",
       "      <td>['crime statistics', 'public', 'data', 'statis...</td>\n",
       "      <td>https://data.oaklandnet.com/Public-Services/PR...</td>\n",
       "      <td>1448931047</td>\n",
       "      <td>881</td>\n",
       "      <td>881</td>\n",
       "    </tr>\n",
       "    <tr>\n",
       "      <th>18</th>\n",
       "      <td>Public Safety</td>\n",
       "      <td>1437155119</td>\n",
       "      <td>1437159084</td>\n",
       "      <td>All license plate reader data (ALPR)  4/1/14 t...</td>\n",
       "      <td>304</td>\n",
       "      <td>1379</td>\n",
       "      <td>['license plate', 'police department', 'public...</td>\n",
       "      <td>https://data.oaklandnet.com/Public-Safety/All-...</td>\n",
       "      <td>1437156642</td>\n",
       "      <td>1017</td>\n",
       "      <td>1017</td>\n",
       "    </tr>\n",
       "    <tr>\n",
       "      <th>19</th>\n",
       "      <td>Financial</td>\n",
       "      <td>1432679751</td>\n",
       "      <td>1432681936</td>\n",
       "      <td>PRR 9545 - Street Sweeping 2013 - 2015 05.08.2015</td>\n",
       "      <td>654</td>\n",
       "      <td>1326</td>\n",
       "      <td>['prr 9545', 'public', 'data', 'statistics', '...</td>\n",
       "      <td>https://data.oaklandnet.com/Financial/PRR-9545...</td>\n",
       "      <td>1432680970</td>\n",
       "      <td>1069</td>\n",
       "      <td>1069</td>\n",
       "    </tr>\n",
       "    <tr>\n",
       "      <th>20</th>\n",
       "      <td>Public Safety</td>\n",
       "      <td>1434550595</td>\n",
       "      <td>1440171916</td>\n",
       "      <td>All license plate reader data (ALPR) 8/6/2012-...</td>\n",
       "      <td>307</td>\n",
       "      <td>1314</td>\n",
       "      <td>['license plate', 'police department', 'public...</td>\n",
       "      <td>https://data.oaklandnet.com/Public-Safety/All-...</td>\n",
       "      <td>1440171547</td>\n",
       "      <td>1047</td>\n",
       "      <td>1047</td>\n",
       "    </tr>\n",
       "    <tr>\n",
       "      <th>21</th>\n",
       "      <td>Public Services</td>\n",
       "      <td>1445273184</td>\n",
       "      <td>1445276251</td>\n",
       "      <td>Shotspotter Data 1-1-13 To 12-31-14</td>\n",
       "      <td>221</td>\n",
       "      <td>1261</td>\n",
       "      <td>['shotspotter', 'shot spotter', 'public', 'dat...</td>\n",
       "      <td>https://data.oaklandnet.com/Public-Services/Sh...</td>\n",
       "      <td>1445274020</td>\n",
       "      <td>923</td>\n",
       "      <td>923</td>\n",
       "    </tr>\n",
       "    <tr>\n",
       "      <th>22</th>\n",
       "      <td>Public Safety</td>\n",
       "      <td>1434558826</td>\n",
       "      <td>1440171698</td>\n",
       "      <td>All license plate reader data (ALPR) 12/19/201...</td>\n",
       "      <td>264</td>\n",
       "      <td>1239</td>\n",
       "      <td>['license plate', 'police department', 'public...</td>\n",
       "      <td>https://data.oaklandnet.com/Public-Safety/All-...</td>\n",
       "      <td>1440171507</td>\n",
       "      <td>1047</td>\n",
       "      <td>1047</td>\n",
       "    </tr>\n",
       "    <tr>\n",
       "      <th>23</th>\n",
       "      <td>Public Safety</td>\n",
       "      <td>1434491935</td>\n",
       "      <td>1440172529</td>\n",
       "      <td>All license plate reader data (ALPR)  12-23-20...</td>\n",
       "      <td>278</td>\n",
       "      <td>1204</td>\n",
       "      <td>['license plate', 'police department', 'public...</td>\n",
       "      <td>https://data.oaklandnet.com/Public-Safety/All-...</td>\n",
       "      <td>1440171561</td>\n",
       "      <td>1048</td>\n",
       "      <td>1048</td>\n",
       "    </tr>\n",
       "    <tr>\n",
       "      <th>24</th>\n",
       "      <td>Infrastructure</td>\n",
       "      <td>1358885192</td>\n",
       "      <td>1414778610</td>\n",
       "      <td>Traffic Signals</td>\n",
       "      <td>451</td>\n",
       "      <td>1191</td>\n",
       "      <td>['public', 'data', 'statistics', 'dataset']</td>\n",
       "      <td>https://data.oaklandnet.com/Infrastructure/Tra...</td>\n",
       "      <td>1426521841</td>\n",
       "      <td>1923</td>\n",
       "      <td>1923</td>\n",
       "    </tr>\n",
       "    <tr>\n",
       "      <th>25</th>\n",
       "      <td>Financial</td>\n",
       "      <td>1431980087</td>\n",
       "      <td>1432053623</td>\n",
       "      <td>FY14-15 Midcycle to FY15-17 Proposed Budget Co...</td>\n",
       "      <td>213</td>\n",
       "      <td>1184</td>\n",
       "      <td>['budget', 'proposed', 'public', 'data', 'stat...</td>\n",
       "      <td>https://data.oaklandnet.com/Financial/FY14-15-...</td>\n",
       "      <td>1431984694</td>\n",
       "      <td>1077</td>\n",
       "      <td>1077</td>\n",
       "    </tr>\n",
       "    <tr>\n",
       "      <th>26</th>\n",
       "      <td>Public Safety</td>\n",
       "      <td>1434557566</td>\n",
       "      <td>1440171725</td>\n",
       "      <td>All license plate reader data (ALPR) 3/1/2013-...</td>\n",
       "      <td>266</td>\n",
       "      <td>1180</td>\n",
       "      <td>['license plate', 'police department', 'public...</td>\n",
       "      <td>https://data.oaklandnet.com/Public-Safety/All-...</td>\n",
       "      <td>1440171527</td>\n",
       "      <td>1047</td>\n",
       "      <td>1047</td>\n",
       "    </tr>\n",
       "    <tr>\n",
       "      <th>27</th>\n",
       "      <td>Public Safety</td>\n",
       "      <td>1434555185</td>\n",
       "      <td>1440171916</td>\n",
       "      <td>All license plate reader data (ALPR) 10/20/201...</td>\n",
       "      <td>260</td>\n",
       "      <td>1147</td>\n",
       "      <td>['license plate', 'police department', 'public...</td>\n",
       "      <td>https://data.oaklandnet.com/Public-Safety/All-...</td>\n",
       "      <td>1440171535</td>\n",
       "      <td>1047</td>\n",
       "      <td>1047</td>\n",
       "    </tr>\n",
       "    <tr>\n",
       "      <th>28</th>\n",
       "      <td>Public Services</td>\n",
       "      <td>1359610151</td>\n",
       "      <td>1414727800</td>\n",
       "      <td>Parks and Recreation Facilities</td>\n",
       "      <td>459</td>\n",
       "      <td>1141</td>\n",
       "      <td>['public', 'data', 'statistics', 'dataset']</td>\n",
       "      <td>https://data.oaklandnet.com/Public-Services/Pa...</td>\n",
       "      <td>1426521839</td>\n",
       "      <td>1915</td>\n",
       "      <td>1915</td>\n",
       "    </tr>\n",
       "    <tr>\n",
       "      <th>29</th>\n",
       "      <td>Public Safety</td>\n",
       "      <td>1434556911</td>\n",
       "      <td>1440171726</td>\n",
       "      <td>All license plate reader data (ALPR) 11/20/201...</td>\n",
       "      <td>243</td>\n",
       "      <td>1074</td>\n",
       "      <td>['license plate', 'police department', 'public...</td>\n",
       "      <td>https://data.oaklandnet.com/Public-Safety/All-...</td>\n",
       "      <td>1440171532</td>\n",
       "      <td>1047</td>\n",
       "      <td>1047</td>\n",
       "    </tr>\n",
       "    <tr>\n",
       "      <th>...</th>\n",
       "      <td>...</td>\n",
       "      <td>...</td>\n",
       "      <td>...</td>\n",
       "      <td>...</td>\n",
       "      <td>...</td>\n",
       "      <td>...</td>\n",
       "      <td>...</td>\n",
       "      <td>...</td>\n",
       "      <td>...</td>\n",
       "      <td>...</td>\n",
       "      <td>...</td>\n",
       "    </tr>\n",
       "    <tr>\n",
       "      <th>46</th>\n",
       "      <td>Public Safety</td>\n",
       "      <td>1359007855</td>\n",
       "      <td>1414647849</td>\n",
       "      <td>Problem Solving Officer Directory</td>\n",
       "      <td>531</td>\n",
       "      <td>738</td>\n",
       "      <td>['public', 'data', 'statistics', 'dataset']</td>\n",
       "      <td>https://data.oaklandnet.com/Public-Safety/Prob...</td>\n",
       "      <td>1426521841</td>\n",
       "      <td>1922</td>\n",
       "      <td>1922</td>\n",
       "    </tr>\n",
       "    <tr>\n",
       "      <th>47</th>\n",
       "      <td>Public Services</td>\n",
       "      <td>1445298870</td>\n",
       "      <td>1445300224</td>\n",
       "      <td>Shotspotter Data 8-16-15 To 9-15-15</td>\n",
       "      <td>195</td>\n",
       "      <td>701</td>\n",
       "      <td>['shotspotter', 'shot spotter data', 'public',...</td>\n",
       "      <td>https://data.oaklandnet.com/Public-Services/Sh...</td>\n",
       "      <td>1445298940</td>\n",
       "      <td>923</td>\n",
       "      <td>923</td>\n",
       "    </tr>\n",
       "    <tr>\n",
       "      <th>48</th>\n",
       "      <td>City Government</td>\n",
       "      <td>1462376664</td>\n",
       "      <td>1462389462</td>\n",
       "      <td>Oakland Workforce Demographics As Of 12-31-2015</td>\n",
       "      <td>159</td>\n",
       "      <td>650</td>\n",
       "      <td>['city employees', 'workforce demographics', '...</td>\n",
       "      <td>https://data.oaklandnet.com/City-Government/Oa...</td>\n",
       "      <td>1462381096</td>\n",
       "      <td>725</td>\n",
       "      <td>725</td>\n",
       "    </tr>\n",
       "    <tr>\n",
       "      <th>49</th>\n",
       "      <td>Public Safety</td>\n",
       "      <td>1361598456</td>\n",
       "      <td>1414647215</td>\n",
       "      <td>Fire Station Locations</td>\n",
       "      <td>357</td>\n",
       "      <td>590</td>\n",
       "      <td>['public', 'data', 'statistics', 'dataset']</td>\n",
       "      <td>https://data.oaklandnet.com/Public-Safety/Fire...</td>\n",
       "      <td>1426521842</td>\n",
       "      <td>1892</td>\n",
       "      <td>1892</td>\n",
       "    </tr>\n",
       "    <tr>\n",
       "      <th>50</th>\n",
       "      <td>Public Services</td>\n",
       "      <td>1445299152</td>\n",
       "      <td>1445300307</td>\n",
       "      <td>Shotspotter Data 9-16-15 To 10-6-15</td>\n",
       "      <td>227</td>\n",
       "      <td>569</td>\n",
       "      <td>['shotspotter', 'shot spotter data', 'public',...</td>\n",
       "      <td>https://data.oaklandnet.com/Public-Services/Sh...</td>\n",
       "      <td>1445299221</td>\n",
       "      <td>923</td>\n",
       "      <td>923</td>\n",
       "    </tr>\n",
       "    <tr>\n",
       "      <th>51</th>\n",
       "      <td>Public Services</td>\n",
       "      <td>1471565278</td>\n",
       "      <td>1471735013</td>\n",
       "      <td>Jun 2014 - May 2015</td>\n",
       "      <td>58</td>\n",
       "      <td>539</td>\n",
       "      <td>['parking tickets', 'public', 'data', 'statist...</td>\n",
       "      <td>https://data.oaklandnet.com/Public-Services/Ju...</td>\n",
       "      <td>1471565726</td>\n",
       "      <td>619</td>\n",
       "      <td>619</td>\n",
       "    </tr>\n",
       "    <tr>\n",
       "      <th>52</th>\n",
       "      <td>Public Safety</td>\n",
       "      <td>1359001455</td>\n",
       "      <td>1414777747</td>\n",
       "      <td>NCPC Meeting Roster</td>\n",
       "      <td>455</td>\n",
       "      <td>514</td>\n",
       "      <td>['public', 'data', 'statistics', 'dataset']</td>\n",
       "      <td>https://data.oaklandnet.com/Public-Safety/NCPC...</td>\n",
       "      <td>1426521839</td>\n",
       "      <td>1922</td>\n",
       "      <td>1891</td>\n",
       "    </tr>\n",
       "    <tr>\n",
       "      <th>53</th>\n",
       "      <td>Education</td>\n",
       "      <td>1357777011</td>\n",
       "      <td>1414727185</td>\n",
       "      <td>Head Start Locations</td>\n",
       "      <td>384</td>\n",
       "      <td>514</td>\n",
       "      <td>['public', 'data', 'statistics', 'dataset']</td>\n",
       "      <td>https://data.oaklandnet.com/Education/Head-Sta...</td>\n",
       "      <td>1426521841</td>\n",
       "      <td>1936</td>\n",
       "      <td>1936</td>\n",
       "    </tr>\n",
       "    <tr>\n",
       "      <th>54</th>\n",
       "      <td>Public Services</td>\n",
       "      <td>1471567980</td>\n",
       "      <td>1471735907</td>\n",
       "      <td>Jun 2016 - 15 Aug 2016</td>\n",
       "      <td>54</td>\n",
       "      <td>505</td>\n",
       "      <td>['parking tickets', 'public', 'data', 'statist...</td>\n",
       "      <td>https://data.oaklandnet.com/Public-Services/Ju...</td>\n",
       "      <td>1471568131</td>\n",
       "      <td>619</td>\n",
       "      <td>619</td>\n",
       "    </tr>\n",
       "    <tr>\n",
       "      <th>55</th>\n",
       "      <td>Public Services</td>\n",
       "      <td>1358921016</td>\n",
       "      <td>1414777542</td>\n",
       "      <td>Oakland Public Library Branch Locations And Hours</td>\n",
       "      <td>343</td>\n",
       "      <td>503</td>\n",
       "      <td>['public', 'data', 'statistics', 'dataset']</td>\n",
       "      <td>https://data.oaklandnet.com/Public-Services/Oa...</td>\n",
       "      <td>1426521842</td>\n",
       "      <td>1923</td>\n",
       "      <td>1923</td>\n",
       "    </tr>\n",
       "    <tr>\n",
       "      <th>56</th>\n",
       "      <td>Infrastructure</td>\n",
       "      <td>1361601939</td>\n",
       "      <td>1414778610</td>\n",
       "      <td>Current Paving Contracts</td>\n",
       "      <td>378</td>\n",
       "      <td>497</td>\n",
       "      <td>['streets', 'public', 'data', 'statistics', 'd...</td>\n",
       "      <td>https://data.oaklandnet.com/Infrastructure/Cur...</td>\n",
       "      <td>1426521844</td>\n",
       "      <td>1892</td>\n",
       "      <td>1892</td>\n",
       "    </tr>\n",
       "    <tr>\n",
       "      <th>57</th>\n",
       "      <td>Public Services</td>\n",
       "      <td>1471567382</td>\n",
       "      <td>1471735287</td>\n",
       "      <td>Jun 2015 - May 2016</td>\n",
       "      <td>64</td>\n",
       "      <td>467</td>\n",
       "      <td>['parking citations', 'public', 'data', 'stati...</td>\n",
       "      <td>https://data.oaklandnet.com/Public-Services/Ju...</td>\n",
       "      <td>1471567715</td>\n",
       "      <td>619</td>\n",
       "      <td>619</td>\n",
       "    </tr>\n",
       "    <tr>\n",
       "      <th>58</th>\n",
       "      <td>Environmental</td>\n",
       "      <td>1358565026</td>\n",
       "      <td>1414647553</td>\n",
       "      <td>Oakland Certified Green Businesses</td>\n",
       "      <td>407</td>\n",
       "      <td>417</td>\n",
       "      <td>['public', 'data', 'statistics', 'dataset']</td>\n",
       "      <td>https://data.oaklandnet.com/Environmental/Oakl...</td>\n",
       "      <td>1426521844</td>\n",
       "      <td>1927</td>\n",
       "      <td>1927</td>\n",
       "    </tr>\n",
       "    <tr>\n",
       "      <th>59</th>\n",
       "      <td>Public Services</td>\n",
       "      <td>1408483170</td>\n",
       "      <td>1415300683</td>\n",
       "      <td>2014 Lobbyist Activity</td>\n",
       "      <td>296</td>\n",
       "      <td>374</td>\n",
       "      <td>['ethics', 'open government', 'lobbyist', 'pub...</td>\n",
       "      <td>https://data.oaklandnet.com/Public-Services/20...</td>\n",
       "      <td>1415300679</td>\n",
       "      <td>1349</td>\n",
       "      <td>1270</td>\n",
       "    </tr>\n",
       "    <tr>\n",
       "      <th>60</th>\n",
       "      <td>Public Services</td>\n",
       "      <td>1445294905</td>\n",
       "      <td>1445296246</td>\n",
       "      <td>Shotspotter Data 8-1-15 To 8-31-15</td>\n",
       "      <td>192</td>\n",
       "      <td>345</td>\n",
       "      <td>['shotspotter', 'shot spotter data', 'public',...</td>\n",
       "      <td>https://data.oaklandnet.com/Public-Services/Sh...</td>\n",
       "      <td>1445295091</td>\n",
       "      <td>923</td>\n",
       "      <td>923</td>\n",
       "    </tr>\n",
       "    <tr>\n",
       "      <th>61</th>\n",
       "      <td>Public Safety</td>\n",
       "      <td>1434550826</td>\n",
       "      <td>1439919572</td>\n",
       "      <td>All license plate reader data (ALPR) 9/15/2012</td>\n",
       "      <td>246</td>\n",
       "      <td>333</td>\n",
       "      <td>['license plate', 'police department', 'public...</td>\n",
       "      <td>https://data.oaklandnet.com/Public-Safety/All-...</td>\n",
       "      <td>1439918656</td>\n",
       "      <td>1047</td>\n",
       "      <td>1047</td>\n",
       "    </tr>\n",
       "    <tr>\n",
       "      <th>62</th>\n",
       "      <td>Public Services</td>\n",
       "      <td>1361597711</td>\n",
       "      <td>1414646097</td>\n",
       "      <td>Boards &amp; Commissions</td>\n",
       "      <td>398</td>\n",
       "      <td>302</td>\n",
       "      <td>['public', 'data', 'statistics', 'dataset']</td>\n",
       "      <td>https://data.oaklandnet.com/Public-Services/Bo...</td>\n",
       "      <td>1426521845</td>\n",
       "      <td>1892</td>\n",
       "      <td>1892</td>\n",
       "    </tr>\n",
       "    <tr>\n",
       "      <th>63</th>\n",
       "      <td>Public Services</td>\n",
       "      <td>1363735972</td>\n",
       "      <td>1414702518</td>\n",
       "      <td>Wildfire Prevention Assessment District Engine...</td>\n",
       "      <td>359</td>\n",
       "      <td>226</td>\n",
       "      <td>['wpad', 'budget', 'public', 'data', 'statisti...</td>\n",
       "      <td>https://data.oaklandnet.com/Public-Services/Wi...</td>\n",
       "      <td>1426521844</td>\n",
       "      <td>1867</td>\n",
       "      <td>1867</td>\n",
       "    </tr>\n",
       "    <tr>\n",
       "      <th>64</th>\n",
       "      <td>Public Services</td>\n",
       "      <td>1408483700</td>\n",
       "      <td>1415300652</td>\n",
       "      <td>2014 Lobbyist Directory</td>\n",
       "      <td>300</td>\n",
       "      <td>224</td>\n",
       "      <td>['ethics', 'transparency', 'open government', ...</td>\n",
       "      <td>https://data.oaklandnet.com/Public-Services/20...</td>\n",
       "      <td>1415300609</td>\n",
       "      <td>1349</td>\n",
       "      <td>1270</td>\n",
       "    </tr>\n",
       "    <tr>\n",
       "      <th>65</th>\n",
       "      <td>City Government</td>\n",
       "      <td>1467417554</td>\n",
       "      <td>1467418238</td>\n",
       "      <td>Oakland SB 272 Enterprise IT Systems Catalog</td>\n",
       "      <td>117</td>\n",
       "      <td>210</td>\n",
       "      <td>['public', 'data', 'statistics', 'dataset']</td>\n",
       "      <td>https://data.oaklandnet.com/City-Government/Oa...</td>\n",
       "      <td>1467418126</td>\n",
       "      <td>667</td>\n",
       "      <td>667</td>\n",
       "    </tr>\n",
       "    <tr>\n",
       "      <th>66</th>\n",
       "      <td>Life Enrichment</td>\n",
       "      <td>1432760126</td>\n",
       "      <td>1432761154</td>\n",
       "      <td>FY14-15 Cultural Funding Program Grant Recomme...</td>\n",
       "      <td>227</td>\n",
       "      <td>195</td>\n",
       "      <td>['public', 'data', 'statistics', 'dataset']</td>\n",
       "      <td>https://data.oaklandnet.com/Life-Enrichment/FY...</td>\n",
       "      <td>1432760488</td>\n",
       "      <td>1068</td>\n",
       "      <td>1068</td>\n",
       "    </tr>\n",
       "    <tr>\n",
       "      <th>67</th>\n",
       "      <td>City Government</td>\n",
       "      <td>1498515068</td>\n",
       "      <td>1519775558</td>\n",
       "      <td>2017 Ticket Distribution List</td>\n",
       "      <td>42</td>\n",
       "      <td>185</td>\n",
       "      <td>['2017 ticket distribution list', 'public', 'd...</td>\n",
       "      <td>https://data.oaklandnet.com/City-Government/20...</td>\n",
       "      <td>1519775466</td>\n",
       "      <td>307</td>\n",
       "      <td>61</td>\n",
       "    </tr>\n",
       "    <tr>\n",
       "      <th>68</th>\n",
       "      <td>Public Safety</td>\n",
       "      <td>1375830013</td>\n",
       "      <td>1414777530</td>\n",
       "      <td>2013 Large National Night Out Parties By Organ...</td>\n",
       "      <td>347</td>\n",
       "      <td>175</td>\n",
       "      <td>['public', 'data', 'statistics', 'dataset']</td>\n",
       "      <td>https://data.oaklandnet.com/Public-Safety/2013...</td>\n",
       "      <td>1426521846</td>\n",
       "      <td>1727</td>\n",
       "      <td>1727</td>\n",
       "    </tr>\n",
       "    <tr>\n",
       "      <th>69</th>\n",
       "      <td>Financial</td>\n",
       "      <td>1493328927</td>\n",
       "      <td>1493428603</td>\n",
       "      <td>FY2017-19 Mayor's Proposed Budget Expenditures</td>\n",
       "      <td>18</td>\n",
       "      <td>123</td>\n",
       "      <td>['budget', 'proposed budget', 'expenditures', ...</td>\n",
       "      <td>https://data.oaklandnet.com/Financial/FY2017-1...</td>\n",
       "      <td>1493428580</td>\n",
       "      <td>367</td>\n",
       "      <td>367</td>\n",
       "    </tr>\n",
       "    <tr>\n",
       "      <th>70</th>\n",
       "      <td>City Government</td>\n",
       "      <td>1519686228</td>\n",
       "      <td>1523571711</td>\n",
       "      <td>2018 Ticket Distribution</td>\n",
       "      <td>8</td>\n",
       "      <td>75</td>\n",
       "      <td>['tickets', 'sports', 'events', 'oracle', 'col...</td>\n",
       "      <td>https://data.oaklandnet.com/City-Government/20...</td>\n",
       "      <td>1523571704</td>\n",
       "      <td>62</td>\n",
       "      <td>17</td>\n",
       "    </tr>\n",
       "    <tr>\n",
       "      <th>71</th>\n",
       "      <td>Public Services</td>\n",
       "      <td>1504897898</td>\n",
       "      <td>1504898743</td>\n",
       "      <td>Records For 2016</td>\n",
       "      <td>12</td>\n",
       "      <td>64</td>\n",
       "      <td>['public', 'data', 'statistics', 'dataset']</td>\n",
       "      <td>https://data.oaklandnet.com/Public-Services/Re...</td>\n",
       "      <td>1504898817</td>\n",
       "      <td>233</td>\n",
       "      <td>233</td>\n",
       "    </tr>\n",
       "    <tr>\n",
       "      <th>72</th>\n",
       "      <td>Public Services</td>\n",
       "      <td>1504879541</td>\n",
       "      <td>1504880202</td>\n",
       "      <td>Records For 2015</td>\n",
       "      <td>10</td>\n",
       "      <td>54</td>\n",
       "      <td>['crime statistics', 'public', 'data', 'statis...</td>\n",
       "      <td>https://data.oaklandnet.com/Public-Services/Re...</td>\n",
       "      <td>1504886848</td>\n",
       "      <td>233</td>\n",
       "      <td>233</td>\n",
       "    </tr>\n",
       "    <tr>\n",
       "      <th>73</th>\n",
       "      <td>Public Services</td>\n",
       "      <td>1504274417</td>\n",
       "      <td>1504301099</td>\n",
       "      <td>Records For 2012</td>\n",
       "      <td>7</td>\n",
       "      <td>52</td>\n",
       "      <td>['prr 20055', 'public', 'data', 'statistics', ...</td>\n",
       "      <td>https://data.oaklandnet.com/Public-Services/Re...</td>\n",
       "      <td>1504305617</td>\n",
       "      <td>240</td>\n",
       "      <td>240</td>\n",
       "    </tr>\n",
       "    <tr>\n",
       "      <th>74</th>\n",
       "      <td>Public Services</td>\n",
       "      <td>1504623152</td>\n",
       "      <td>1504623452</td>\n",
       "      <td>Records For 2013</td>\n",
       "      <td>6</td>\n",
       "      <td>31</td>\n",
       "      <td>['crime statistics', 'prr 20055', 'public', 'd...</td>\n",
       "      <td>https://data.oaklandnet.com/Public-Services/Re...</td>\n",
       "      <td>1504623446</td>\n",
       "      <td>236</td>\n",
       "      <td>236</td>\n",
       "    </tr>\n",
       "    <tr>\n",
       "      <th>75</th>\n",
       "      <td>Public Services</td>\n",
       "      <td>1510240379</td>\n",
       "      <td>1510241713</td>\n",
       "      <td>PRR 2635 2010</td>\n",
       "      <td>7</td>\n",
       "      <td>12</td>\n",
       "      <td>['crime lab employees', 'public', 'data', 'sta...</td>\n",
       "      <td>https://data.oaklandnet.com/Public-Services/PR...</td>\n",
       "      <td>1510240936</td>\n",
       "      <td>171</td>\n",
       "      <td>171</td>\n",
       "    </tr>\n",
       "  </tbody>\n",
       "</table>\n",
       "<p>76 rows × 11 columns</p>\n",
       "</div>"
      ],
      "text/plain": [
       "           Category     Created  Index Updated  \\\n",
       "0         Financial  1366227257     1414703014   \n",
       "1     Public Safety  1358971390     1524924060   \n",
       "2    Infrastructure  1366135056     1522413430   \n",
       "3    Infrastructure  1363734611     1414725798   \n",
       "4     Environmental  1358885493     1414647713   \n",
       "5     Public Safety  1434559472     1436914768   \n",
       "6     Environmental  1358483748     1414726110   \n",
       "7   Public Services  1385510573     1414778268   \n",
       "8     Public Safety  1390344376     1414647003   \n",
       "9         Financial  1395444862     1414777831   \n",
       "10        Financial  1430328034     1430425538   \n",
       "11        Financial  1401384875     1414702762   \n",
       "12    Public Safety  1393022782     1414647230   \n",
       "13        Financial  1427409480     1427412314   \n",
       "14        Financial  1425316607     1425322094   \n",
       "15    Public Safety  1434551060     1440171916   \n",
       "16    Public Safety  1434574409     1434582370   \n",
       "17  Public Services  1448929477     1448939326   \n",
       "18    Public Safety  1437155119     1437159084   \n",
       "19        Financial  1432679751     1432681936   \n",
       "20    Public Safety  1434550595     1440171916   \n",
       "21  Public Services  1445273184     1445276251   \n",
       "22    Public Safety  1434558826     1440171698   \n",
       "23    Public Safety  1434491935     1440172529   \n",
       "24   Infrastructure  1358885192     1414778610   \n",
       "25        Financial  1431980087     1432053623   \n",
       "26    Public Safety  1434557566     1440171725   \n",
       "27    Public Safety  1434555185     1440171916   \n",
       "28  Public Services  1359610151     1414727800   \n",
       "29    Public Safety  1434556911     1440171726   \n",
       "..              ...         ...            ...   \n",
       "46    Public Safety  1359007855     1414647849   \n",
       "47  Public Services  1445298870     1445300224   \n",
       "48  City Government  1462376664     1462389462   \n",
       "49    Public Safety  1361598456     1414647215   \n",
       "50  Public Services  1445299152     1445300307   \n",
       "51  Public Services  1471565278     1471735013   \n",
       "52    Public Safety  1359001455     1414777747   \n",
       "53        Education  1357777011     1414727185   \n",
       "54  Public Services  1471567980     1471735907   \n",
       "55  Public Services  1358921016     1414777542   \n",
       "56   Infrastructure  1361601939     1414778610   \n",
       "57  Public Services  1471567382     1471735287   \n",
       "58    Environmental  1358565026     1414647553   \n",
       "59  Public Services  1408483170     1415300683   \n",
       "60  Public Services  1445294905     1445296246   \n",
       "61    Public Safety  1434550826     1439919572   \n",
       "62  Public Services  1361597711     1414646097   \n",
       "63  Public Services  1363735972     1414702518   \n",
       "64  Public Services  1408483700     1415300652   \n",
       "65  City Government  1467417554     1467418238   \n",
       "66  Life Enrichment  1432760126     1432761154   \n",
       "67  City Government  1498515068     1519775558   \n",
       "68    Public Safety  1375830013     1414777530   \n",
       "69        Financial  1493328927     1493428603   \n",
       "70  City Government  1519686228     1523571711   \n",
       "71  Public Services  1504897898     1504898743   \n",
       "72  Public Services  1504879541     1504880202   \n",
       "73  Public Services  1504274417     1504301099   \n",
       "74  Public Services  1504623152     1504623452   \n",
       "75  Public Services  1510240379     1510241713   \n",
       "\n",
       "                                                 Name  Number of Downloads  \\\n",
       "0    City of Oakland Proposed Policy Budget FY2013-15                  642   \n",
       "1                        CrimeWatch Maps Past 90-Days                 3658   \n",
       "2   Service requests received by the Oakland Call ...                 1143   \n",
       "3           Service requests received by Public Works                  563   \n",
       "4                                Oakland Street Trees                  686   \n",
       "5   All license plate reader data (ALPR) 3/19/2014...                  365   \n",
       "6                Public Works Volunteer Opportunities                  479   \n",
       "7                                     Drainage Inlets                  419   \n",
       "8                                Crimewatch Data 2013                  531   \n",
       "9       City of Oakland Adopted Policy Budget FY13-15                  349   \n",
       "10         Proposed Budget for Fiscal Years 2015-2017                  511   \n",
       "11  Campaign Finance - Filers with Delinquent Camp...                  277   \n",
       "12                               Crimewatch Data 2012                  451   \n",
       "13             Five-Year Financial Forecast 2016-2020                  357   \n",
       "14  Budget Data For Public Adopted FY2014-15 Midcy...                  235   \n",
       "15  All license plate reader data (ALPR) 8/26/2012...                  261   \n",
       "16  All License Plate Reader Data (ALPR) September...                  267   \n",
       "17                                         PRR #10437                  198   \n",
       "18  All license plate reader data (ALPR)  4/1/14 t...                  304   \n",
       "19  PRR 9545 - Street Sweeping 2013 - 2015 05.08.2015                  654   \n",
       "20  All license plate reader data (ALPR) 8/6/2012-...                  307   \n",
       "21                Shotspotter Data 1-1-13 To 12-31-14                  221   \n",
       "22  All license plate reader data (ALPR) 12/19/201...                  264   \n",
       "23  All license plate reader data (ALPR)  12-23-20...                  278   \n",
       "24                                    Traffic Signals                  451   \n",
       "25  FY14-15 Midcycle to FY15-17 Proposed Budget Co...                  213   \n",
       "26  All license plate reader data (ALPR) 3/1/2013-...                  266   \n",
       "27  All license plate reader data (ALPR) 10/20/201...                  260   \n",
       "28                    Parks and Recreation Facilities                  459   \n",
       "29  All license plate reader data (ALPR) 11/20/201...                  243   \n",
       "..                                                ...                  ...   \n",
       "46                  Problem Solving Officer Directory                  531   \n",
       "47                Shotspotter Data 8-16-15 To 9-15-15                  195   \n",
       "48    Oakland Workforce Demographics As Of 12-31-2015                  159   \n",
       "49                             Fire Station Locations                  357   \n",
       "50                Shotspotter Data 9-16-15 To 10-6-15                  227   \n",
       "51                                Jun 2014 - May 2015                   58   \n",
       "52                                NCPC Meeting Roster                  455   \n",
       "53                               Head Start Locations                  384   \n",
       "54                             Jun 2016 - 15 Aug 2016                   54   \n",
       "55  Oakland Public Library Branch Locations And Hours                  343   \n",
       "56                           Current Paving Contracts                  378   \n",
       "57                                Jun 2015 - May 2016                   64   \n",
       "58                 Oakland Certified Green Businesses                  407   \n",
       "59                             2014 Lobbyist Activity                  296   \n",
       "60                 Shotspotter Data 8-1-15 To 8-31-15                  192   \n",
       "61     All license plate reader data (ALPR) 9/15/2012                  246   \n",
       "62                               Boards & Commissions                  398   \n",
       "63  Wildfire Prevention Assessment District Engine...                  359   \n",
       "64                            2014 Lobbyist Directory                  300   \n",
       "65       Oakland SB 272 Enterprise IT Systems Catalog                  117   \n",
       "66  FY14-15 Cultural Funding Program Grant Recomme...                  227   \n",
       "67                      2017 Ticket Distribution List                   42   \n",
       "68  2013 Large National Night Out Parties By Organ...                  347   \n",
       "69     FY2017-19 Mayor's Proposed Budget Expenditures                   18   \n",
       "70                           2018 Ticket Distribution                    8   \n",
       "71                                   Records For 2016                   12   \n",
       "72                                   Records For 2015                   10   \n",
       "73                                   Records For 2012                    7   \n",
       "74                                   Records For 2013                    6   \n",
       "75                                      PRR 2635 2010                    7   \n",
       "\n",
       "    Number of Views                                               Tags  \\\n",
       "0             15769  ['budget', 'public', 'data', 'statistics', 'da...   \n",
       "1             13527        ['public', 'data', 'statistics', 'dataset']   \n",
       "2             12830  ['public works', 'service requests', 'pot hole...   \n",
       "3              7634  ['public works', 'service requests', 'pot hole...   \n",
       "4              6888        ['public', 'data', 'statistics', 'dataset']   \n",
       "5              4596  ['license plate', 'police department', 'public...   \n",
       "6              3782        ['public', 'data', 'statistics', 'dataset']   \n",
       "7              3085  ['drain', 'inlet', 'drainage inlets', 'public'...   \n",
       "8              3029  ['crime', 'public', 'data', 'statistics', 'dat...   \n",
       "9              3024  ['financial', 'budget', 'public', 'data', 'sta...   \n",
       "10             2941  ['budget', 'public', 'data', 'statistics', 'da...   \n",
       "11             2792  ['fppc', 'public ethics commission', 'pec', 'c...   \n",
       "12             2497        ['public', 'data', 'statistics', 'dataset']   \n",
       "13             1708  ['budget', 'finance', 'survey', 'five-year', '...   \n",
       "14             1526  ['budget', 'finance', 'midcycle budget', 'publ...   \n",
       "15             1410  ['license plate', 'police department', 'public...   \n",
       "16             1402  ['license plate', 'police department', 'public...   \n",
       "17             1397  ['crime statistics', 'public', 'data', 'statis...   \n",
       "18             1379  ['license plate', 'police department', 'public...   \n",
       "19             1326  ['prr 9545', 'public', 'data', 'statistics', '...   \n",
       "20             1314  ['license plate', 'police department', 'public...   \n",
       "21             1261  ['shotspotter', 'shot spotter', 'public', 'dat...   \n",
       "22             1239  ['license plate', 'police department', 'public...   \n",
       "23             1204  ['license plate', 'police department', 'public...   \n",
       "24             1191        ['public', 'data', 'statistics', 'dataset']   \n",
       "25             1184  ['budget', 'proposed', 'public', 'data', 'stat...   \n",
       "26             1180  ['license plate', 'police department', 'public...   \n",
       "27             1147  ['license plate', 'police department', 'public...   \n",
       "28             1141        ['public', 'data', 'statistics', 'dataset']   \n",
       "29             1074  ['license plate', 'police department', 'public...   \n",
       "..              ...                                                ...   \n",
       "46              738        ['public', 'data', 'statistics', 'dataset']   \n",
       "47              701  ['shotspotter', 'shot spotter data', 'public',...   \n",
       "48              650  ['city employees', 'workforce demographics', '...   \n",
       "49              590        ['public', 'data', 'statistics', 'dataset']   \n",
       "50              569  ['shotspotter', 'shot spotter data', 'public',...   \n",
       "51              539  ['parking tickets', 'public', 'data', 'statist...   \n",
       "52              514        ['public', 'data', 'statistics', 'dataset']   \n",
       "53              514        ['public', 'data', 'statistics', 'dataset']   \n",
       "54              505  ['parking tickets', 'public', 'data', 'statist...   \n",
       "55              503        ['public', 'data', 'statistics', 'dataset']   \n",
       "56              497  ['streets', 'public', 'data', 'statistics', 'd...   \n",
       "57              467  ['parking citations', 'public', 'data', 'stati...   \n",
       "58              417        ['public', 'data', 'statistics', 'dataset']   \n",
       "59              374  ['ethics', 'open government', 'lobbyist', 'pub...   \n",
       "60              345  ['shotspotter', 'shot spotter data', 'public',...   \n",
       "61              333  ['license plate', 'police department', 'public...   \n",
       "62              302        ['public', 'data', 'statistics', 'dataset']   \n",
       "63              226  ['wpad', 'budget', 'public', 'data', 'statisti...   \n",
       "64              224  ['ethics', 'transparency', 'open government', ...   \n",
       "65              210        ['public', 'data', 'statistics', 'dataset']   \n",
       "66              195        ['public', 'data', 'statistics', 'dataset']   \n",
       "67              185  ['2017 ticket distribution list', 'public', 'd...   \n",
       "68              175        ['public', 'data', 'statistics', 'dataset']   \n",
       "69              123  ['budget', 'proposed budget', 'expenditures', ...   \n",
       "70               75  ['tickets', 'sports', 'events', 'oracle', 'col...   \n",
       "71               64        ['public', 'data', 'statistics', 'dataset']   \n",
       "72               54  ['crime statistics', 'public', 'data', 'statis...   \n",
       "73               52  ['prr 20055', 'public', 'data', 'statistics', ...   \n",
       "74               31  ['crime statistics', 'prr 20055', 'public', 'd...   \n",
       "75               12  ['crime lab employees', 'public', 'data', 'sta...   \n",
       "\n",
       "                                                  URL  View Last Modified  \\\n",
       "0   https://data.oaklandnet.com/Financial/City-of-...          1426521841   \n",
       "1   https://data.oaklandnet.com/Public-Safety/Crim...          1426521839   \n",
       "2   https://data.oaklandnet.com/Infrastructure/Ser...          1491954484   \n",
       "3   https://data.oaklandnet.com/Infrastructure/Ser...          1426521840   \n",
       "4   https://data.oaklandnet.com/Environmental/Oakl...          1426521840   \n",
       "5   https://data.oaklandnet.com/Public-Safety/All-...          1436907018   \n",
       "6   https://data.oaklandnet.com/Environmental/Publ...          1426521840   \n",
       "7   https://data.oaklandnet.com/Public-Services/Dr...          1385511212   \n",
       "8   https://data.oaklandnet.com/Public-Safety/Crim...          1390344898   \n",
       "9   https://data.oaklandnet.com/Financial/City-of-...          1426521847   \n",
       "10  https://data.oaklandnet.com/Financial/Proposed...          1430424408   \n",
       "11  https://data.oaklandnet.com/Financial/Campaign...          1402526389   \n",
       "12  https://data.oaklandnet.com/Public-Safety/Crim...          1393276389   \n",
       "13  https://data.oaklandnet.com/Financial/Five-Yea...          1427409692   \n",
       "14  https://data.oaklandnet.com/Financial/Budget-D...          1425317488   \n",
       "15  https://data.oaklandnet.com/Public-Safety/All-...          1440171539   \n",
       "16  https://data.oaklandnet.com/Public-Safety/All-...          1434577858   \n",
       "17  https://data.oaklandnet.com/Public-Services/PR...          1448931047   \n",
       "18  https://data.oaklandnet.com/Public-Safety/All-...          1437156642   \n",
       "19  https://data.oaklandnet.com/Financial/PRR-9545...          1432680970   \n",
       "20  https://data.oaklandnet.com/Public-Safety/All-...          1440171547   \n",
       "21  https://data.oaklandnet.com/Public-Services/Sh...          1445274020   \n",
       "22  https://data.oaklandnet.com/Public-Safety/All-...          1440171507   \n",
       "23  https://data.oaklandnet.com/Public-Safety/All-...          1440171561   \n",
       "24  https://data.oaklandnet.com/Infrastructure/Tra...          1426521841   \n",
       "25  https://data.oaklandnet.com/Financial/FY14-15-...          1431984694   \n",
       "26  https://data.oaklandnet.com/Public-Safety/All-...          1440171527   \n",
       "27  https://data.oaklandnet.com/Public-Safety/All-...          1440171535   \n",
       "28  https://data.oaklandnet.com/Public-Services/Pa...          1426521839   \n",
       "29  https://data.oaklandnet.com/Public-Safety/All-...          1440171532   \n",
       "..                                                ...                 ...   \n",
       "46  https://data.oaklandnet.com/Public-Safety/Prob...          1426521841   \n",
       "47  https://data.oaklandnet.com/Public-Services/Sh...          1445298940   \n",
       "48  https://data.oaklandnet.com/City-Government/Oa...          1462381096   \n",
       "49  https://data.oaklandnet.com/Public-Safety/Fire...          1426521842   \n",
       "50  https://data.oaklandnet.com/Public-Services/Sh...          1445299221   \n",
       "51  https://data.oaklandnet.com/Public-Services/Ju...          1471565726   \n",
       "52  https://data.oaklandnet.com/Public-Safety/NCPC...          1426521839   \n",
       "53  https://data.oaklandnet.com/Education/Head-Sta...          1426521841   \n",
       "54  https://data.oaklandnet.com/Public-Services/Ju...          1471568131   \n",
       "55  https://data.oaklandnet.com/Public-Services/Oa...          1426521842   \n",
       "56  https://data.oaklandnet.com/Infrastructure/Cur...          1426521844   \n",
       "57  https://data.oaklandnet.com/Public-Services/Ju...          1471567715   \n",
       "58  https://data.oaklandnet.com/Environmental/Oakl...          1426521844   \n",
       "59  https://data.oaklandnet.com/Public-Services/20...          1415300679   \n",
       "60  https://data.oaklandnet.com/Public-Services/Sh...          1445295091   \n",
       "61  https://data.oaklandnet.com/Public-Safety/All-...          1439918656   \n",
       "62  https://data.oaklandnet.com/Public-Services/Bo...          1426521845   \n",
       "63  https://data.oaklandnet.com/Public-Services/Wi...          1426521844   \n",
       "64  https://data.oaklandnet.com/Public-Services/20...          1415300609   \n",
       "65  https://data.oaklandnet.com/City-Government/Oa...          1467418126   \n",
       "66  https://data.oaklandnet.com/Life-Enrichment/FY...          1432760488   \n",
       "67  https://data.oaklandnet.com/City-Government/20...          1519775466   \n",
       "68  https://data.oaklandnet.com/Public-Safety/2013...          1426521846   \n",
       "69  https://data.oaklandnet.com/Financial/FY2017-1...          1493428580   \n",
       "70  https://data.oaklandnet.com/City-Government/20...          1523571704   \n",
       "71  https://data.oaklandnet.com/Public-Services/Re...          1504898817   \n",
       "72  https://data.oaklandnet.com/Public-Services/Re...          1504886848   \n",
       "73  https://data.oaklandnet.com/Public-Services/Re...          1504305617   \n",
       "74  https://data.oaklandnet.com/Public-Services/Re...          1504623446   \n",
       "75  https://data.oaklandnet.com/Public-Services/PR...          1510240936   \n",
       "\n",
       "    4/30/18 - time created(days)  4/30/18 - time updated(days)  \n",
       "0                           1838                          1838  \n",
       "1                           1922                             1  \n",
       "2                           1839                            30  \n",
       "3                           1867                          1867  \n",
       "4                           1923                          1923  \n",
       "5                           1047                          1047  \n",
       "6                           1928                          1913  \n",
       "7                           1615                          1615  \n",
       "8                           1559                          1559  \n",
       "9                           1500                          1500  \n",
       "10                          1096                          1096  \n",
       "11                          1431                          1431  \n",
       "12                          1528                          1528  \n",
       "13                          1130                          1130  \n",
       "14                          1154                          1154  \n",
       "15                          1047                          1047  \n",
       "16                          1047                          1047  \n",
       "17                           881                           881  \n",
       "18                          1017                          1017  \n",
       "19                          1069                          1069  \n",
       "20                          1047                          1047  \n",
       "21                           923                           923  \n",
       "22                          1047                          1047  \n",
       "23                          1048                          1048  \n",
       "24                          1923                          1923  \n",
       "25                          1077                          1077  \n",
       "26                          1047                          1047  \n",
       "27                          1047                          1047  \n",
       "28                          1915                          1915  \n",
       "29                          1047                          1047  \n",
       "..                           ...                           ...  \n",
       "46                          1922                          1922  \n",
       "47                           923                           923  \n",
       "48                           725                           725  \n",
       "49                          1892                          1892  \n",
       "50                           923                           923  \n",
       "51                           619                           619  \n",
       "52                          1922                          1891  \n",
       "53                          1936                          1936  \n",
       "54                           619                           619  \n",
       "55                          1923                          1923  \n",
       "56                          1892                          1892  \n",
       "57                           619                           619  \n",
       "58                          1927                          1927  \n",
       "59                          1349                          1270  \n",
       "60                           923                           923  \n",
       "61                          1047                          1047  \n",
       "62                          1892                          1892  \n",
       "63                          1867                          1867  \n",
       "64                          1349                          1270  \n",
       "65                           667                           667  \n",
       "66                          1068                          1068  \n",
       "67                           307                            61  \n",
       "68                          1727                          1727  \n",
       "69                           367                           367  \n",
       "70                            62                            17  \n",
       "71                           233                           233  \n",
       "72                           233                           233  \n",
       "73                           240                           240  \n",
       "74                           236                           236  \n",
       "75                           171                           171  \n",
       "\n",
       "[76 rows x 11 columns]"
      ]
     },
     "execution_count": 99,
     "metadata": {},
     "output_type": "execute_result"
    }
   ],
   "source": [
    "pd.read_csv(datafile_paths[2])"
   ]
  },
  {
   "cell_type": "code",
   "execution_count": null,
   "metadata": {},
   "outputs": [],
   "source": [
    "['4/30/18 - time rows updated(days)'])"
   ]
  },
  {
   "cell_type": "code",
   "execution_count": null,
   "metadata": {},
   "outputs": [],
   "source": []
  },
  {
   "cell_type": "code",
   "execution_count": 67,
   "metadata": {},
   "outputs": [
    {
     "data": {
      "text/plain": [
       "array([  66.35,  131.7 ,  197.05,  262.4 ,  327.75,  393.1 ,  458.45,\n",
       "        523.8 ,  589.15,  654.5 ,  719.85,  785.2 ,  850.55,  915.9 ,\n",
       "        981.25, 1046.6 , 1111.95, 1177.3 , 1242.65, 1308.  ])"
      ]
     },
     "execution_count": 67,
     "metadata": {},
     "output_type": "execute_result"
    }
   ],
   "source": [
    "out2[1:]"
   ]
  },
  {
   "cell_type": "code",
   "execution_count": 71,
   "metadata": {},
   "outputs": [
    {
     "data": {
      "text/plain": [
       "66.35"
      ]
     },
     "execution_count": 71,
     "metadata": {},
     "output_type": "execute_result"
    }
   ],
   "source": [
    "out1[0].right"
   ]
  },
  {
   "cell_type": "code",
   "execution_count": 64,
   "metadata": {},
   "outputs": [
    {
     "data": {
      "text/plain": [
       "0       (-0.308, 66.35]\n",
       "1       (-0.308, 66.35]\n",
       "2       (-0.308, 66.35]\n",
       "3       (-0.308, 66.35]\n",
       "4       (-0.308, 66.35]\n",
       "5       (-0.308, 66.35]\n",
       "6       (327.75, 393.1]\n",
       "7       (589.15, 654.5]\n",
       "8       (654.5, 719.85]\n",
       "9       (654.5, 719.85]\n",
       "10    (1046.6, 1111.95]\n",
       "11    (1111.95, 1177.3]\n",
       "12    (1177.3, 1242.65]\n",
       "13    (1177.3, 1242.65]\n",
       "14    (1177.3, 1242.65]\n",
       "15    (1177.3, 1242.65]\n",
       "16    (1177.3, 1242.65]\n",
       "17    (1177.3, 1242.65]\n",
       "18    (1177.3, 1242.65]\n",
       "19    (1177.3, 1242.65]\n",
       "20    (1177.3, 1242.65]\n",
       "21    (1177.3, 1242.65]\n",
       "22    (1177.3, 1242.65]\n",
       "23    (1242.65, 1308.0]\n",
       "Name: days_since_updated, dtype: category\n",
       "Categories (20, interval[float64]): [(-0.308, 66.35] < (66.35, 131.7] < (131.7, 197.05] < (197.05, 262.4] ... (1046.6, 1111.95] < (1111.95, 1177.3] < (1177.3, 1242.65] < (1242.65, 1308.0]]"
      ]
     },
     "execution_count": 64,
     "metadata": {},
     "output_type": "execute_result"
    }
   ],
   "source": [
    "out1"
   ]
  },
  {
   "cell_type": "code",
   "execution_count": 58,
   "metadata": {},
   "outputs": [
    {
     "data": {
      "text/plain": [
       "[7, 1, 1, 2, 1, 1, 11, 1]"
      ]
     },
     "execution_count": 58,
     "metadata": {},
     "output_type": "execute_result"
    }
   ],
   "source": [
    "out_counts"
   ]
  },
  {
   "cell_type": "code",
   "execution_count": 59,
   "metadata": {},
   "outputs": [
    {
     "data": {
      "text/plain": [
       "25"
      ]
     },
     "execution_count": 59,
     "metadata": {},
     "output_type": "execute_result"
    }
   ],
   "source": [
    "sum(out_counts)"
   ]
  },
  {
   "cell_type": "code",
   "execution_count": 23,
   "metadata": {},
   "outputs": [],
   "source": [
    "out1, out2 = pd.cut(test_df['4/30/18 - time rows updated(days)'], bins=20, retbins=True, include_lowest=True)"
   ]
  },
  {
   "cell_type": "code",
   "execution_count": 24,
   "metadata": {},
   "outputs": [
    {
     "data": {
      "text/plain": [
       "0       (-0.308, 66.35]\n",
       "1       (-0.308, 66.35]\n",
       "2       (-0.308, 66.35]\n",
       "3       (-0.308, 66.35]\n",
       "4       (327.75, 393.1]\n",
       "5       (654.5, 719.85]\n",
       "6       (-0.308, 66.35]\n",
       "7     (1177.3, 1242.65]\n",
       "8     (1111.95, 1177.3]\n",
       "9     (1177.3, 1242.65]\n",
       "10    (1177.3, 1242.65]\n",
       "11    (1177.3, 1242.65]\n",
       "12    (1177.3, 1242.65]\n",
       "13      (654.5, 719.85]\n",
       "14      (589.15, 654.5]\n",
       "15    (1177.3, 1242.65]\n",
       "16    (1177.3, 1242.65]\n",
       "17    (1177.3, 1242.65]\n",
       "18    (1177.3, 1242.65]\n",
       "19    (1177.3, 1242.65]\n",
       "20    (1177.3, 1242.65]\n",
       "21    (1046.6, 1111.95]\n",
       "22      (-0.308, 66.35]\n",
       "23    (1242.65, 1308.0]\n",
       "Name: 4/30/18 - time rows updated(days), dtype: category\n",
       "Categories (20, interval[float64]): [(-0.308, 66.35] < (66.35, 131.7] < (131.7, 197.05] < (197.05, 262.4] ... (1046.6, 1111.95] < (1111.95, 1177.3] < (1177.3, 1242.65] < (1242.65, 1308.0]]"
      ]
     },
     "execution_count": 24,
     "metadata": {},
     "output_type": "execute_result"
    }
   ],
   "source": [
    "out1"
   ]
  },
  {
   "cell_type": "code",
   "execution_count": 25,
   "metadata": {},
   "outputs": [
    {
     "data": {
      "text/plain": [
       "array([-3.07000e-01,  6.63500e+01,  1.31700e+02,  1.97050e+02,\n",
       "        2.62400e+02,  3.27750e+02,  3.93100e+02,  4.58450e+02,\n",
       "        5.23800e+02,  5.89150e+02,  6.54500e+02,  7.19850e+02,\n",
       "        7.85200e+02,  8.50550e+02,  9.15900e+02,  9.81250e+02,\n",
       "        1.04660e+03,  1.11195e+03,  1.17730e+03,  1.24265e+03,\n",
       "        1.30800e+03])"
      ]
     },
     "execution_count": 25,
     "metadata": {},
     "output_type": "execute_result"
    }
   ],
   "source": [
    "out2"
   ]
  },
  {
   "cell_type": "code",
   "execution_count": 16,
   "metadata": {},
   "outputs": [],
   "source": [
    "colname = \"test1\"\n",
    "colvals = [\"test2\", \"test3\", \"test4\"]\n",
    "try:\n",
    "    temp_df = pd.read_csv('test.csv')\n",
    "    temp_df[colname] = colvals\n",
    "except:\n",
    "    temp_df = pd.DataFrame(\n",
    "    {\n",
    "        colname:colvals\n",
    "    }\n",
    "    \n",
    "    )\n",
    "temp_df.to_csv('test.csv')"
   ]
  },
  {
   "cell_type": "code",
   "execution_count": 17,
   "metadata": {},
   "outputs": [
    {
     "data": {
      "text/html": [
       "<div>\n",
       "<style scoped>\n",
       "    .dataframe tbody tr th:only-of-type {\n",
       "        vertical-align: middle;\n",
       "    }\n",
       "\n",
       "    .dataframe tbody tr th {\n",
       "        vertical-align: top;\n",
       "    }\n",
       "\n",
       "    .dataframe thead th {\n",
       "        text-align: right;\n",
       "    }\n",
       "</style>\n",
       "<table border=\"1\" class=\"dataframe\">\n",
       "  <thead>\n",
       "    <tr style=\"text-align: right;\">\n",
       "      <th></th>\n",
       "      <th>test</th>\n",
       "      <th>test1</th>\n",
       "    </tr>\n",
       "  </thead>\n",
       "  <tbody>\n",
       "    <tr>\n",
       "      <th>0</th>\n",
       "      <td>test1</td>\n",
       "      <td>test2</td>\n",
       "    </tr>\n",
       "    <tr>\n",
       "      <th>1</th>\n",
       "      <td>test2</td>\n",
       "      <td>test3</td>\n",
       "    </tr>\n",
       "    <tr>\n",
       "      <th>2</th>\n",
       "      <td>test3</td>\n",
       "      <td>test4</td>\n",
       "    </tr>\n",
       "  </tbody>\n",
       "</table>\n",
       "</div>"
      ],
      "text/plain": [
       "    test  test1\n",
       "0  test1  test2\n",
       "1  test2  test3\n",
       "2  test3  test4"
      ]
     },
     "execution_count": 17,
     "metadata": {},
     "output_type": "execute_result"
    }
   ],
   "source": [
    "temp_df "
   ]
  },
  {
   "cell_type": "code",
   "execution_count": 18,
   "metadata": {},
   "outputs": [],
   "source": [
    "temp_df = pd.read_csv('test.csv')"
   ]
  },
  {
   "cell_type": "code",
   "execution_count": 19,
   "metadata": {},
   "outputs": [
    {
     "data": {
      "text/html": [
       "<div>\n",
       "<style scoped>\n",
       "    .dataframe tbody tr th:only-of-type {\n",
       "        vertical-align: middle;\n",
       "    }\n",
       "\n",
       "    .dataframe tbody tr th {\n",
       "        vertical-align: top;\n",
       "    }\n",
       "\n",
       "    .dataframe thead th {\n",
       "        text-align: right;\n",
       "    }\n",
       "</style>\n",
       "<table border=\"1\" class=\"dataframe\">\n",
       "  <thead>\n",
       "    <tr style=\"text-align: right;\">\n",
       "      <th></th>\n",
       "      <th>Unnamed: 0</th>\n",
       "      <th>test</th>\n",
       "      <th>test1</th>\n",
       "    </tr>\n",
       "  </thead>\n",
       "  <tbody>\n",
       "    <tr>\n",
       "      <th>0</th>\n",
       "      <td>0</td>\n",
       "      <td>test1</td>\n",
       "      <td>test2</td>\n",
       "    </tr>\n",
       "    <tr>\n",
       "      <th>1</th>\n",
       "      <td>1</td>\n",
       "      <td>test2</td>\n",
       "      <td>test3</td>\n",
       "    </tr>\n",
       "    <tr>\n",
       "      <th>2</th>\n",
       "      <td>2</td>\n",
       "      <td>test3</td>\n",
       "      <td>test4</td>\n",
       "    </tr>\n",
       "  </tbody>\n",
       "</table>\n",
       "</div>"
      ],
      "text/plain": [
       "   Unnamed: 0   test  test1\n",
       "0           0  test1  test2\n",
       "1           1  test2  test3\n",
       "2           2  test3  test4"
      ]
     },
     "execution_count": 19,
     "metadata": {},
     "output_type": "execute_result"
    }
   ],
   "source": [
    "temp_df"
   ]
  },
  {
   "cell_type": "code",
   "execution_count": null,
   "metadata": {},
   "outputs": [],
   "source": []
  }
 ],
 "metadata": {
  "kernelspec": {
   "display_name": "Python [default]",
   "language": "python",
   "name": "python3"
  },
  "language_info": {
   "codemirror_mode": {
    "name": "ipython",
    "version": 3
   },
   "file_extension": ".py",
   "mimetype": "text/x-python",
   "name": "python",
   "nbconvert_exporter": "python",
   "pygments_lexer": "ipython3",
   "version": "3.6.4"
  }
 },
 "nbformat": 4,
 "nbformat_minor": 2
}
